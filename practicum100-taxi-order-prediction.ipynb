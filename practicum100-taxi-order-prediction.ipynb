{
 "cells": [
  {
   "cell_type": "markdown",
   "metadata": {},
   "source": [
    "# Project description\n",
    "\n",
    "Sweet Lift Taxi company has collected historical data on taxi orders at airports. To attract more drivers during peak hours, we need to predict the amount of taxi orders for the next hour. Build a model for such a prediction.\n",
    "\n",
    "The RMSE metric on the test set should not be more than 48.\n",
    "\n"
   ]
  },
  {
   "cell_type": "markdown",
   "metadata": {},
   "source": [
    "## Loading needed libraries"
   ]
  },
  {
   "cell_type": "code",
   "execution_count": 1,
   "metadata": {},
   "outputs": [],
   "source": [
    "# import needed packages\n",
    "import pandas as pd\n",
    "import numpy as np\n",
    "import matplotlib.pyplot as plt\n",
    "from IPython.core.interactiveshell import InteractiveShell\n",
    "from IPython.display import display\n",
    "from statsmodels.tsa.seasonal import seasonal_decompose\n",
    "\n",
    "# import machine learning packages\n",
    "from sklearn.metrics import mean_squared_error\n",
    "from sklearn.preprocessing import StandardScaler\n",
    "from sklearn.compose import make_column_transformer, TransformedTargetRegressor\n",
    "from sklearn.model_selection import train_test_split, cross_val_score, GridSearchCV, TimeSeriesSplit\n",
    "from sklearn.pipeline import Pipeline\n",
    "from sklearn.linear_model import LinearRegression\n",
    "from sklearn.ensemble import RandomForestRegressor\n",
    "from lightgbm import LGBMRegressor"
   ]
  },
  {
   "cell_type": "markdown",
   "metadata": {},
   "source": [
    "### Set environment variables"
   ]
  },
  {
   "cell_type": "code",
   "execution_count": 2,
   "metadata": {},
   "outputs": [],
   "source": [
    "# set to display all output not only print() or last output\n",
    "InteractiveShell.ast_node_interactivity = \"all\"\n",
    "\n",
    "# set display all columns when showing dataframes\n",
    "pd.options.display.max_columns = None"
   ]
  },
  {
   "cell_type": "markdown",
   "metadata": {},
   "source": [
    "## Preparation\n",
    "\n",
    "In this step I will load the data, perform exploratory data analysis and take care of the resampling of the time series data."
   ]
  },
  {
   "cell_type": "markdown",
   "metadata": {},
   "source": [
    "### Data loading"
   ]
  },
  {
   "cell_type": "code",
   "execution_count": 3,
   "metadata": {},
   "outputs": [],
   "source": [
    "# load needed files, try/except to differentiate between running at home or on yandex jupyterhub\n",
    "try:\n",
    "    df_input = pd.read_csv('taxi.csv', index_col=[0], parse_dates=[0])\n",
    "except:\n",
    "    df_input = pd.read_csv('/datasets/taxi.csv', index_col=[0], parse_dates=[0])"
   ]
  },
  {
   "cell_type": "markdown",
   "metadata": {},
   "source": [
    "### Exploratory data analysis"
   ]
  },
  {
   "cell_type": "code",
   "execution_count": 4,
   "metadata": {},
   "outputs": [
    {
     "name": "stdout",
     "output_type": "stream",
     "text": [
      "<class 'pandas.core.frame.DataFrame'>\n",
      "DatetimeIndex: 26496 entries, 2018-03-01 00:00:00 to 2018-08-31 23:50:00\n",
      "Data columns (total 1 columns):\n",
      " #   Column      Non-Null Count  Dtype\n",
      "---  ------      --------------  -----\n",
      " 0   num_orders  26496 non-null  int64\n",
      "dtypes: int64(1)\n",
      "memory usage: 414.0 KB\n"
     ]
    },
    {
     "data": {
      "text/html": [
       "<div>\n",
       "<style scoped>\n",
       "    .dataframe tbody tr th:only-of-type {\n",
       "        vertical-align: middle;\n",
       "    }\n",
       "\n",
       "    .dataframe tbody tr th {\n",
       "        vertical-align: top;\n",
       "    }\n",
       "\n",
       "    .dataframe thead th {\n",
       "        text-align: right;\n",
       "    }\n",
       "</style>\n",
       "<table border=\"1\" class=\"dataframe\">\n",
       "  <thead>\n",
       "    <tr style=\"text-align: right;\">\n",
       "      <th></th>\n",
       "      <th>num_orders</th>\n",
       "    </tr>\n",
       "  </thead>\n",
       "  <tbody>\n",
       "    <tr>\n",
       "      <th>count</th>\n",
       "      <td>26496.000000</td>\n",
       "    </tr>\n",
       "    <tr>\n",
       "      <th>mean</th>\n",
       "      <td>14.070463</td>\n",
       "    </tr>\n",
       "    <tr>\n",
       "      <th>std</th>\n",
       "      <td>9.211330</td>\n",
       "    </tr>\n",
       "    <tr>\n",
       "      <th>min</th>\n",
       "      <td>0.000000</td>\n",
       "    </tr>\n",
       "    <tr>\n",
       "      <th>25%</th>\n",
       "      <td>8.000000</td>\n",
       "    </tr>\n",
       "    <tr>\n",
       "      <th>50%</th>\n",
       "      <td>13.000000</td>\n",
       "    </tr>\n",
       "    <tr>\n",
       "      <th>75%</th>\n",
       "      <td>19.000000</td>\n",
       "    </tr>\n",
       "    <tr>\n",
       "      <th>max</th>\n",
       "      <td>119.000000</td>\n",
       "    </tr>\n",
       "  </tbody>\n",
       "</table>\n",
       "</div>"
      ],
      "text/plain": [
       "         num_orders\n",
       "count  26496.000000\n",
       "mean      14.070463\n",
       "std        9.211330\n",
       "min        0.000000\n",
       "25%        8.000000\n",
       "50%       13.000000\n",
       "75%       19.000000\n",
       "max      119.000000"
      ]
     },
     "execution_count": 4,
     "metadata": {},
     "output_type": "execute_result"
    },
    {
     "data": {
      "text/html": [
       "<div>\n",
       "<style scoped>\n",
       "    .dataframe tbody tr th:only-of-type {\n",
       "        vertical-align: middle;\n",
       "    }\n",
       "\n",
       "    .dataframe tbody tr th {\n",
       "        vertical-align: top;\n",
       "    }\n",
       "\n",
       "    .dataframe thead th {\n",
       "        text-align: right;\n",
       "    }\n",
       "</style>\n",
       "<table border=\"1\" class=\"dataframe\">\n",
       "  <thead>\n",
       "    <tr style=\"text-align: right;\">\n",
       "      <th></th>\n",
       "      <th>num_orders</th>\n",
       "    </tr>\n",
       "    <tr>\n",
       "      <th>datetime</th>\n",
       "      <th></th>\n",
       "    </tr>\n",
       "  </thead>\n",
       "  <tbody>\n",
       "    <tr>\n",
       "      <th>2018-03-01 00:00:00</th>\n",
       "      <td>9</td>\n",
       "    </tr>\n",
       "    <tr>\n",
       "      <th>2018-03-01 00:10:00</th>\n",
       "      <td>14</td>\n",
       "    </tr>\n",
       "    <tr>\n",
       "      <th>2018-03-01 00:20:00</th>\n",
       "      <td>28</td>\n",
       "    </tr>\n",
       "    <tr>\n",
       "      <th>2018-03-01 00:30:00</th>\n",
       "      <td>20</td>\n",
       "    </tr>\n",
       "    <tr>\n",
       "      <th>2018-03-01 00:40:00</th>\n",
       "      <td>32</td>\n",
       "    </tr>\n",
       "    <tr>\n",
       "      <th>2018-03-01 00:50:00</th>\n",
       "      <td>21</td>\n",
       "    </tr>\n",
       "    <tr>\n",
       "      <th>2018-03-01 01:00:00</th>\n",
       "      <td>7</td>\n",
       "    </tr>\n",
       "    <tr>\n",
       "      <th>2018-03-01 01:10:00</th>\n",
       "      <td>5</td>\n",
       "    </tr>\n",
       "    <tr>\n",
       "      <th>2018-03-01 01:20:00</th>\n",
       "      <td>17</td>\n",
       "    </tr>\n",
       "    <tr>\n",
       "      <th>2018-03-01 01:30:00</th>\n",
       "      <td>12</td>\n",
       "    </tr>\n",
       "  </tbody>\n",
       "</table>\n",
       "</div>"
      ],
      "text/plain": [
       "                     num_orders\n",
       "datetime                       \n",
       "2018-03-01 00:00:00           9\n",
       "2018-03-01 00:10:00          14\n",
       "2018-03-01 00:20:00          28\n",
       "2018-03-01 00:30:00          20\n",
       "2018-03-01 00:40:00          32\n",
       "2018-03-01 00:50:00          21\n",
       "2018-03-01 01:00:00           7\n",
       "2018-03-01 01:10:00           5\n",
       "2018-03-01 01:20:00          17\n",
       "2018-03-01 01:30:00          12"
      ]
     },
     "execution_count": 4,
     "metadata": {},
     "output_type": "execute_result"
    }
   ],
   "source": [
    "# display basic information about the dataframes we use\n",
    "df_input.info()\n",
    "df_input.describe()\n",
    "df_input.head(10)"
   ]
  },
  {
   "cell_type": "code",
   "execution_count": 5,
   "metadata": {},
   "outputs": [
    {
     "name": "stdout",
     "output_type": "stream",
     "text": [
      "True\n"
     ]
    }
   ],
   "source": [
    "# make sure index is sorted\n",
    "print(df_input.index.is_monotonic)"
   ]
  },
  {
   "cell_type": "markdown",
   "metadata": {},
   "source": [
    "I've summarized the discoveries below in the summary sub chapter."
   ]
  },
  {
   "cell_type": "markdown",
   "metadata": {},
   "source": [
    "### Resampling to hourly intervals\n",
    "\n",
    "The data is sampled every 10 minutes and I've been asked to resample it to 1-hour intervals, so I will perform this."
   ]
  },
  {
   "cell_type": "code",
   "execution_count": 6,
   "metadata": {},
   "outputs": [],
   "source": [
    "# taking the sum of hourly intervals\n",
    "df = df_input.resample('1H').sum()"
   ]
  },
  {
   "cell_type": "markdown",
   "metadata": {},
   "source": [
    "### Summary of preparation\n",
    "\n",
    "* Performed EDA, with the following discoveries:\n",
    "    * Column names are lower case so no need to change\n",
    "    * Data doesn't seem to be missing in any of the columns\n",
    "    * In raw form, we have 26496 total observations, of which 0 rows are duplicates\n",
    "    * datetime index is already sorted\n",
    "    * We have 10 minute interval timepoints which I will resample to hourly sums\n",
    "* Data was resampled from 10-minute intervals to 1-hour intervals."
   ]
  },
  {
   "cell_type": "markdown",
   "metadata": {},
   "source": [
    "## Analysis\n",
    "\n",
    "In this step, I will look at the data more thoroughly, pick out features from the data and divide the dataset into train/test so we will be ready for the training in the next part."
   ]
  },
  {
   "cell_type": "markdown",
   "metadata": {},
   "source": [
    "### More thorough look\n",
    "\n",
    "Let's start by looking at the whole set, and also see if we can recognize trends and seasonality in it"
   ]
  },
  {
   "cell_type": "code",
   "execution_count": 7,
   "metadata": {},
   "outputs": [
    {
     "data": {
      "image/png": "[encoded data removed]",
      "text/plain": [
       "<Figure size 720x720 with 4 Axes>"
      ]
     },
     "metadata": {
      "needs_background": "light"
     },
     "output_type": "display_data"
    }
   ],
   "source": [
    "# decompose the time series to look for seasonality and trends\n",
    "decomposed = seasonal_decompose(df)\n",
    "\n",
    "# plot the data\n",
    "plt.figure(figsize=(10, 10))\n",
    "plt.subplot(411)\n",
    "decomposed.trend.plot(ax=plt.gca())\n",
    "plt.title('Trends')\n",
    "plt.subplot(412)\n",
    "decomposed.seasonal.plot(ax=plt.gca())\n",
    "plt.title('Seasonality')\n",
    "plt.subplot(413)\n",
    "decomposed.resid.plot(ax=plt.gca())\n",
    "plt.title('Residuals')\n",
    "plt.subplot(414)\n",
    "df.plot(ax=plt.gca())\n",
    "plt.title('Raw')\n",
    "plt.tight_layout();"
   ]
  },
  {
   "cell_type": "markdown",
   "metadata": {},
   "source": [
    "This is interesting - we can learn several things from this:\n",
    "* We can see that in general things have been picking up for the taxi company and the trend is going up with time\n",
    "* From the residuals we can note several outliers especially in August\n",
    "* The model picked up a very short repeating seasonality, let's look at this more clearly"
   ]
  },
  {
   "cell_type": "code",
   "execution_count": 8,
   "metadata": {},
   "outputs": [
    {
     "data": {
      "image/png": "[encoded data removed]",
      "text/plain": [
       "<Figure size 1080x360 with 1 Axes>"
      ]
     },
     "metadata": {
      "needs_background": "light"
     },
     "output_type": "display_data"
    }
   ],
   "source": [
    "# plot short period to look at seasonality pattern\n",
    "decomposed.seasonal['2018-03-01':'2018-03-01'].plot(figsize=(15,5))\n",
    "plt.title('Zoom in on taxi order seasonality - daily seasonality');"
   ]
  },
  {
   "cell_type": "markdown",
   "metadata": {},
   "source": [
    "After playing around with the date ranges I noticed that the seasonality appears to be repeated daily. We can see that the hour of the day has a really obvious effect on the value.\n",
    "\n",
    "Based on these analyses, we can see that it would make sense for the model to know the hour of the day as a feature.\n",
    "Also, based on the trend we picked up, we should add a feature that gives us a wide rolling average to account for the slow increase we noted. I'll try different windows to see which one more closely resembles the general trend we see. In addition, I'll try to add another rolling window feature which might help predict the shorter duration trends that can be seen in the trend decomposition."
   ]
  },
  {
   "cell_type": "markdown",
   "metadata": {},
   "source": [
    "### Adding features "
   ]
  },
  {
   "cell_type": "markdown",
   "metadata": {},
   "source": [
    "#### Rolling mean\n",
    "\n",
    "We see two different resolutions of trends. One which is very general, and the other which creates some peaks and valleys over the general trend. After playing around comparing them to the trend above, I've decided on a daily and weekly rolling average to add as features."
   ]
  },
  {
   "cell_type": "code",
   "execution_count": 9,
   "metadata": {},
   "outputs": [],
   "source": [
    "# create rolling averages, use shift to not include current value in average\n",
    "df['daily_rolling_mean'] = df['num_orders'].shift().rolling(24).mean()\n",
    "df['weekly_rolling_mean'] = df['num_orders'].shift().rolling(24*7).mean()"
   ]
  },
  {
   "cell_type": "markdown",
   "metadata": {},
   "source": [
    "#### Time-based features\n",
    "\n",
    "As we've seen before, there is a strong hourly seasonality in the data. In addition, I'll assume the day of the week also has an influence on the amount of taxi cabs ordered."
   ]
  },
  {
   "cell_type": "code",
   "execution_count": 10,
   "metadata": {},
   "outputs": [],
   "source": [
    "# create features based on the time/date\n",
    "df['dayofweek'] = df.index.dayofweek\n",
    "df['hour'] = df.index.hour"
   ]
  },
  {
   "cell_type": "markdown",
   "metadata": {},
   "source": [
    "#### Lag-based features\n",
    "\n",
    "For the finer-grained resolution, I'll add previous values in the form of lag of the data for the model to use. Based on the data above 1 to 6 timepoints seems to be enough to encode this."
   ]
  },
  {
   "cell_type": "code",
   "execution_count": 11,
   "metadata": {},
   "outputs": [],
   "source": [
    "# add lag-based time features\n",
    "for lag in range(1, 7):\n",
    "    df['lag_{}'.format(lag)] = df['num_orders'].shift(lag)"
   ]
  },
  {
   "cell_type": "markdown",
   "metadata": {},
   "source": [
    "#### Remove NaNs\n",
    "\n",
    "Performing the rolling average and the shift for the lag introduced some NaNs which I will remove at this point."
   ]
  },
  {
   "cell_type": "code",
   "execution_count": 12,
   "metadata": {},
   "outputs": [],
   "source": [
    "# remove NaNs\n",
    "df.dropna(inplace=True)"
   ]
  },
  {
   "cell_type": "markdown",
   "metadata": {},
   "source": [
    "### Splitting the data\n",
    "\n",
    "I'll separate between train/test sets and separate the features from the target."
   ]
  },
  {
   "cell_type": "code",
   "execution_count": 13,
   "metadata": {},
   "outputs": [],
   "source": [
    "# put aside 10% as requested for the test set\n",
    "train, test = train_test_split(df, shuffle=False, test_size=0.1)\n",
    "\n",
    "# separate between features and target\n",
    "train_X = train.drop(columns='num_orders')\n",
    "test_X = test.drop(columns='num_orders')\n",
    "train_y = train['num_orders']\n",
    "test_y = test['num_orders']"
   ]
  },
  {
   "cell_type": "markdown",
   "metadata": {},
   "source": [
    "### Preparing a scaler for numerical columns, and time series cross validation object\n",
    "\n",
    "Since the columns are numeric, I'll scale them down so that there is no difference between the features."
   ]
  },
  {
   "cell_type": "code",
   "execution_count": 14,
   "metadata": {},
   "outputs": [],
   "source": [
    "# decide which columns get transformed (all columns are numeric)\n",
    "num_cols = train_X.columns.tolist()\n",
    "\n",
    "# define possible transformers\n",
    "scaler = StandardScaler()\n",
    "\n",
    "# define column transformer for pipeline\n",
    "preprocess = make_column_transformer(\n",
    "    (scaler, num_cols),\n",
    "    remainder='passthrough')"
   ]
  },
  {
   "cell_type": "markdown",
   "metadata": {},
   "source": [
    "### Preparing time series cross validation object\n",
    "\n",
    "Since regular cross validation samples the data randomly, this doesn't make sense for time series data. Hence, I will use TimeSeriesSplit instead to perform the splitting, with a gap between the train and validation sets each time so that the model doesn't learn the lag values."
   ]
  },
  {
   "cell_type": "code",
   "execution_count": 15,
   "metadata": {},
   "outputs": [],
   "source": [
    "# prepare 4 cross validation folds using TimeSeriesSplit so they are chosen correctly\n",
    "# gap is used so that model doesn't learn values appearing in the lag_n features\n",
    "tscv = TimeSeriesSplit(n_splits=4, gap=6)"
   ]
  },
  {
   "cell_type": "markdown",
   "metadata": {},
   "source": [
    "### Summary of analysis:\n",
    "* We performed seasonal decomposition to look for trends and seasonality\n",
    "\t* We discovered a general upwards trend over the whole time period\n",
    "\t* We noted outliers in the data of August\n",
    "\t* The model picked up a seasonality that is repeated daily\n",
    "* Based on these analyses, we engineered features:\n",
    "\t* A daily and weekly rolling mean average of the orders\n",
    "\t* day of the week and hour of the day features\n",
    "\t* 24 lagged features\n",
    "* Data was split 90:10 between the train and test sets\n",
    "* Features were separated from the targets\n",
    "* Prepared a StandardScaler() scaler for all the numerical columns\n",
    "* Prepared a TimeSeriesSplit() splitter for the planned cross validation steps"
   ]
  },
  {
   "cell_type": "markdown",
   "metadata": {},
   "source": [
    "## Training"
   ]
  },
  {
   "cell_type": "markdown",
   "metadata": {},
   "source": [
    "I'll try 3 different models: LinearRegression(), RandomForestRegressor() and LGBMRegressor(). For the first I'll just perform a scoring using cross validation, for the other two I'll use a gridsearch cross validation to look for optimal hyperparameters. I'll StandardScaler() both the features and the target."
   ]
  },
  {
   "cell_type": "markdown",
   "metadata": {},
   "source": [
    "### Linear Regression"
   ]
  },
  {
   "cell_type": "code",
   "execution_count": 16,
   "metadata": {},
   "outputs": [
    {
     "name": "stdout",
     "output_type": "stream",
     "text": [
      "LinearRegression() model: mean of 4 cross validation RMSE scores: 32.236\n"
     ]
    }
   ],
   "source": [
    "# define model\n",
    "model_linear = LinearRegression()\n",
    "\n",
    "# define pipeline\n",
    "steps = [('preprocessing', preprocess), ('regression', model_linear)]\n",
    "pipeline = Pipeline(steps)\n",
    "\n",
    "# prepare the model with target scaling\n",
    "full_linear_model = TransformedTargetRegressor(regressor=pipeline, transformer=StandardScaler())\n",
    "\n",
    "# get scores for this model\n",
    "results_linear = cross_val_score(full_linear_model, train_X, train_y, scoring='neg_root_mean_squared_error', cv=tscv, n_jobs=-1)\n",
    "\n",
    "# print resulting scores of linear regression model\n",
    "print('LinearRegression() model: mean of 4 cross validation RMSE scores: {:.3f}' .format(-results_linear.mean()))"
   ]
  },
  {
   "cell_type": "markdown",
   "metadata": {},
   "source": [
    "Seems like we are in the right direction, with a mean RMSE score smaller than 48."
   ]
  },
  {
   "cell_type": "markdown",
   "metadata": {},
   "source": [
    "### Random Forest Regression"
   ]
  },
  {
   "cell_type": "code",
   "execution_count": 17,
   "metadata": {},
   "outputs": [
    {
     "name": "stdout",
     "output_type": "stream",
     "text": [
      "Fitting 4 folds for each of 40 candidates, totalling 160 fits\n",
      "[CV] END regressor__regression__max_depth=3, regressor__regression__n_estimators=10; total time=   0.1s\n",
      "[CV] END regressor__regression__max_depth=3, regressor__regression__n_estimators=10; total time=   0.0s\n",
      "[CV] END regressor__regression__max_depth=3, regressor__regression__n_estimators=10; total time=   0.0s\n",
      "[CV] END regressor__regression__max_depth=3, regressor__regression__n_estimators=10; total time=   0.1s\n",
      "[CV] END regressor__regression__max_depth=3, regressor__regression__n_estimators=20; total time=   0.0s\n",
      "[CV] END regressor__regression__max_depth=3, regressor__regression__n_estimators=20; total time=   0.1s\n",
      "[CV] END regressor__regression__max_depth=3, regressor__regression__n_estimators=20; total time=   0.1s\n",
      "[CV] END regressor__regression__max_depth=3, regressor__regression__n_estimators=20; total time=   0.1s\n",
      "[CV] END regressor__regression__max_depth=3, regressor__regression__n_estimators=30; total time=   0.1s\n",
      "[CV] END regressor__regression__max_depth=3, regressor__regression__n_estimators=30; total time=   0.1s\n",
      "[CV] END regressor__regression__max_depth=3, regressor__regression__n_estimators=30; total time=   0.1s\n",
      "[CV] END regressor__regression__max_depth=3, regressor__regression__n_estimators=30; total time=   0.1s\n",
      "[CV] END regressor__regression__max_depth=3, regressor__regression__n_estimators=40; total time=   0.1s\n",
      "[CV] END regressor__regression__max_depth=3, regressor__regression__n_estimators=40; total time=   0.1s\n",
      "[CV] END regressor__regression__max_depth=3, regressor__regression__n_estimators=40; total time=   0.1s\n",
      "[CV] END regressor__regression__max_depth=3, regressor__regression__n_estimators=40; total time=   0.2s\n",
      "[CV] END regressor__regression__max_depth=3, regressor__regression__n_estimators=50; total time=   0.1s\n",
      "[CV] END regressor__regression__max_depth=3, regressor__regression__n_estimators=50; total time=   0.1s\n",
      "[CV] END regressor__regression__max_depth=3, regressor__regression__n_estimators=50; total time=   0.2s\n",
      "[CV] END regressor__regression__max_depth=3, regressor__regression__n_estimators=50; total time=   0.2s\n",
      "[CV] END regressor__regression__max_depth=8, regressor__regression__n_estimators=10; total time=   0.0s\n",
      "[CV] END regressor__regression__max_depth=8, regressor__regression__n_estimators=10; total time=   0.1s\n",
      "[CV] END regressor__regression__max_depth=8, regressor__regression__n_estimators=10; total time=   0.1s\n",
      "[CV] END regressor__regression__max_depth=8, regressor__regression__n_estimators=10; total time=   0.1s\n",
      "[CV] END regressor__regression__max_depth=8, regressor__regression__n_estimators=20; total time=   0.1s\n",
      "[CV] END regressor__regression__max_depth=8, regressor__regression__n_estimators=20; total time=   0.1s\n",
      "[CV] END regressor__regression__max_depth=8, regressor__regression__n_estimators=20; total time=   0.1s\n",
      "[CV] END regressor__regression__max_depth=8, regressor__regression__n_estimators=20; total time=   0.2s\n",
      "[CV] END regressor__regression__max_depth=8, regressor__regression__n_estimators=30; total time=   0.2s\n",
      "[CV] END regressor__regression__max_depth=8, regressor__regression__n_estimators=30; total time=   0.2s\n",
      "[CV] END regressor__regression__max_depth=8, regressor__regression__n_estimators=30; total time=   0.2s\n",
      "[CV] END regressor__regression__max_depth=8, regressor__regression__n_estimators=30; total time=   0.3s\n",
      "[CV] END regressor__regression__max_depth=8, regressor__regression__n_estimators=40; total time=   0.1s\n",
      "[CV] END regressor__regression__max_depth=8, regressor__regression__n_estimators=40; total time=   0.2s\n",
      "[CV] END regressor__regression__max_depth=8, regressor__regression__n_estimators=40; total time=   0.3s\n",
      "[CV] END regressor__regression__max_depth=8, regressor__regression__n_estimators=40; total time=   0.4s\n",
      "[CV] END regressor__regression__max_depth=8, regressor__regression__n_estimators=50; total time=   0.2s\n",
      "[CV] END regressor__regression__max_depth=8, regressor__regression__n_estimators=50; total time=   0.3s\n",
      "[CV] END regressor__regression__max_depth=8, regressor__regression__n_estimators=50; total time=   0.4s\n",
      "[CV] END regressor__regression__max_depth=8, regressor__regression__n_estimators=50; total time=   0.5s\n",
      "[CV] END regressor__regression__max_depth=13, regressor__regression__n_estimators=10; total time=   0.0s\n",
      "[CV] END regressor__regression__max_depth=13, regressor__regression__n_estimators=10; total time=   0.1s\n",
      "[CV] END regressor__regression__max_depth=13, regressor__regression__n_estimators=10; total time=   0.1s\n",
      "[CV] END regressor__regression__max_depth=13, regressor__regression__n_estimators=10; total time=   0.1s\n",
      "[CV] END regressor__regression__max_depth=13, regressor__regression__n_estimators=20; total time=   0.1s\n",
      "[CV] END regressor__regression__max_depth=13, regressor__regression__n_estimators=20; total time=   0.1s\n",
      "[CV] END regressor__regression__max_depth=13, regressor__regression__n_estimators=20; total time=   0.2s\n",
      "[CV] END regressor__regression__max_depth=13, regressor__regression__n_estimators=20; total time=   0.3s\n",
      "[CV] END regressor__regression__max_depth=13, regressor__regression__n_estimators=30; total time=   0.1s\n",
      "[CV] END regressor__regression__max_depth=13, regressor__regression__n_estimators=30; total time=   0.2s\n",
      "[CV] END regressor__regression__max_depth=13, regressor__regression__n_estimators=30; total time=   0.3s\n",
      "[CV] END regressor__regression__max_depth=13, regressor__regression__n_estimators=30; total time=   0.4s\n",
      "[CV] END regressor__regression__max_depth=13, regressor__regression__n_estimators=40; total time=   0.2s\n",
      "[CV] END regressor__regression__max_depth=13, regressor__regression__n_estimators=40; total time=   0.3s\n",
      "[CV] END regressor__regression__max_depth=13, regressor__regression__n_estimators=40; total time=   0.4s\n",
      "[CV] END regressor__regression__max_depth=13, regressor__regression__n_estimators=40; total time=   0.5s\n",
      "[CV] END regressor__regression__max_depth=13, regressor__regression__n_estimators=50; total time=   0.2s\n",
      "[CV] END regressor__regression__max_depth=13, regressor__regression__n_estimators=50; total time=   0.4s\n",
      "[CV] END regressor__regression__max_depth=13, regressor__regression__n_estimators=50; total time=   0.5s\n",
      "[CV] END regressor__regression__max_depth=13, regressor__regression__n_estimators=50; total time=   0.7s\n",
      "[CV] END regressor__regression__max_depth=18, regressor__regression__n_estimators=10; total time=   0.0s\n",
      "[CV] END regressor__regression__max_depth=18, regressor__regression__n_estimators=10; total time=   0.1s\n",
      "[CV] END regressor__regression__max_depth=18, regressor__regression__n_estimators=10; total time=   0.1s\n",
      "[CV] END regressor__regression__max_depth=18, regressor__regression__n_estimators=10; total time=   0.2s\n",
      "[CV] END regressor__regression__max_depth=18, regressor__regression__n_estimators=20; total time=   0.1s\n",
      "[CV] END regressor__regression__max_depth=18, regressor__regression__n_estimators=20; total time=   0.2s\n",
      "[CV] END regressor__regression__max_depth=18, regressor__regression__n_estimators=20; total time=   0.2s\n",
      "[CV] END regressor__regression__max_depth=18, regressor__regression__n_estimators=20; total time=   0.3s\n",
      "[CV] END regressor__regression__max_depth=18, regressor__regression__n_estimators=30; total time=   0.1s\n",
      "[CV] END regressor__regression__max_depth=18, regressor__regression__n_estimators=30; total time=   0.2s\n",
      "[CV] END regressor__regression__max_depth=18, regressor__regression__n_estimators=30; total time=   0.3s\n",
      "[CV] END regressor__regression__max_depth=18, regressor__regression__n_estimators=30; total time=   0.5s\n",
      "[CV] END regressor__regression__max_depth=18, regressor__regression__n_estimators=40; total time=   0.2s\n",
      "[CV] END regressor__regression__max_depth=18, regressor__regression__n_estimators=40; total time=   0.3s\n",
      "[CV] END regressor__regression__max_depth=18, regressor__regression__n_estimators=40; total time=   0.4s\n",
      "[CV] END regressor__regression__max_depth=18, regressor__regression__n_estimators=40; total time=   0.6s\n",
      "[CV] END regressor__regression__max_depth=18, regressor__regression__n_estimators=50; total time=   0.2s\n",
      "[CV] END regressor__regression__max_depth=18, regressor__regression__n_estimators=50; total time=   0.4s\n",
      "[CV] END regressor__regression__max_depth=18, regressor__regression__n_estimators=50; total time=   0.5s\n",
      "[CV] END regressor__regression__max_depth=18, regressor__regression__n_estimators=50; total time=   0.7s\n",
      "[CV] END regressor__regression__max_depth=23, regressor__regression__n_estimators=10; total time=   0.0s\n",
      "[CV] END regressor__regression__max_depth=23, regressor__regression__n_estimators=10; total time=   0.1s\n",
      "[CV] END regressor__regression__max_depth=23, regressor__regression__n_estimators=10; total time=   0.1s\n",
      "[CV] END regressor__regression__max_depth=23, regressor__regression__n_estimators=10; total time=   0.2s\n",
      "[CV] END regressor__regression__max_depth=23, regressor__regression__n_estimators=20; total time=   0.1s\n",
      "[CV] END regressor__regression__max_depth=23, regressor__regression__n_estimators=20; total time=   0.2s\n",
      "[CV] END regressor__regression__max_depth=23, regressor__regression__n_estimators=20; total time=   0.2s\n",
      "[CV] END regressor__regression__max_depth=23, regressor__regression__n_estimators=20; total time=   0.3s\n",
      "[CV] END regressor__regression__max_depth=23, regressor__regression__n_estimators=30; total time=   0.1s\n",
      "[CV] END regressor__regression__max_depth=23, regressor__regression__n_estimators=30; total time=   0.2s\n",
      "[CV] END regressor__regression__max_depth=23, regressor__regression__n_estimators=30; total time=   0.3s\n",
      "[CV] END regressor__regression__max_depth=23, regressor__regression__n_estimators=30; total time=   0.5s\n",
      "[CV] END regressor__regression__max_depth=23, regressor__regression__n_estimators=40; total time=   0.2s\n",
      "[CV] END regressor__regression__max_depth=23, regressor__regression__n_estimators=40; total time=   0.3s\n",
      "[CV] END regressor__regression__max_depth=23, regressor__regression__n_estimators=40; total time=   0.5s\n",
      "[CV] END regressor__regression__max_depth=23, regressor__regression__n_estimators=40; total time=   0.6s\n",
      "[CV] END regressor__regression__max_depth=23, regressor__regression__n_estimators=50; total time=   0.2s\n",
      "[CV] END regressor__regression__max_depth=23, regressor__regression__n_estimators=50; total time=   0.4s\n",
      "[CV] END regressor__regression__max_depth=23, regressor__regression__n_estimators=50; total time=   0.6s\n",
      "[CV] END regressor__regression__max_depth=23, regressor__regression__n_estimators=50; total time=   0.7s\n",
      "[CV] END regressor__regression__max_depth=28, regressor__regression__n_estimators=10; total time=   0.0s\n",
      "[CV] END regressor__regression__max_depth=28, regressor__regression__n_estimators=10; total time=   0.1s\n",
      "[CV] END regressor__regression__max_depth=28, regressor__regression__n_estimators=10; total time=   0.1s\n",
      "[CV] END regressor__regression__max_depth=28, regressor__regression__n_estimators=10; total time=   0.2s\n",
      "[CV] END regressor__regression__max_depth=28, regressor__regression__n_estimators=20; total time=   0.1s\n",
      "[CV] END regressor__regression__max_depth=28, regressor__regression__n_estimators=20; total time=   0.2s\n",
      "[CV] END regressor__regression__max_depth=28, regressor__regression__n_estimators=20; total time=   0.3s\n",
      "[CV] END regressor__regression__max_depth=28, regressor__regression__n_estimators=20; total time=   0.3s\n",
      "[CV] END regressor__regression__max_depth=28, regressor__regression__n_estimators=30; total time=   0.1s\n",
      "[CV] END regressor__regression__max_depth=28, regressor__regression__n_estimators=30; total time=   0.2s\n",
      "[CV] END regressor__regression__max_depth=28, regressor__regression__n_estimators=30; total time=   0.3s\n",
      "[CV] END regressor__regression__max_depth=28, regressor__regression__n_estimators=30; total time=   0.4s\n",
      "[CV] END regressor__regression__max_depth=28, regressor__regression__n_estimators=40; total time=   0.2s\n",
      "[CV] END regressor__regression__max_depth=28, regressor__regression__n_estimators=40; total time=   0.3s\n",
      "[CV] END regressor__regression__max_depth=28, regressor__regression__n_estimators=40; total time=   0.4s\n",
      "[CV] END regressor__regression__max_depth=28, regressor__regression__n_estimators=40; total time=   0.6s\n",
      "[CV] END regressor__regression__max_depth=28, regressor__regression__n_estimators=50; total time=   0.2s\n",
      "[CV] END regressor__regression__max_depth=28, regressor__regression__n_estimators=50; total time=   0.4s\n",
      "[CV] END regressor__regression__max_depth=28, regressor__regression__n_estimators=50; total time=   0.5s\n",
      "[CV] END regressor__regression__max_depth=28, regressor__regression__n_estimators=50; total time=   0.7s\n",
      "[CV] END regressor__regression__max_depth=33, regressor__regression__n_estimators=10; total time=   0.0s\n",
      "[CV] END regressor__regression__max_depth=33, regressor__regression__n_estimators=10; total time=   0.1s\n",
      "[CV] END regressor__regression__max_depth=33, regressor__regression__n_estimators=10; total time=   0.1s\n",
      "[CV] END regressor__regression__max_depth=33, regressor__regression__n_estimators=10; total time=   0.2s\n",
      "[CV] END regressor__regression__max_depth=33, regressor__regression__n_estimators=20; total time=   0.1s\n",
      "[CV] END regressor__regression__max_depth=33, regressor__regression__n_estimators=20; total time=   0.2s\n",
      "[CV] END regressor__regression__max_depth=33, regressor__regression__n_estimators=20; total time=   0.2s\n",
      "[CV] END regressor__regression__max_depth=33, regressor__regression__n_estimators=20; total time=   0.3s\n",
      "[CV] END regressor__regression__max_depth=33, regressor__regression__n_estimators=30; total time=   0.1s\n",
      "[CV] END regressor__regression__max_depth=33, regressor__regression__n_estimators=30; total time=   0.2s\n",
      "[CV] END regressor__regression__max_depth=33, regressor__regression__n_estimators=30; total time=   0.3s\n",
      "[CV] END regressor__regression__max_depth=33, regressor__regression__n_estimators=30; total time=   0.4s\n",
      "[CV] END regressor__regression__max_depth=33, regressor__regression__n_estimators=40; total time=   0.2s\n",
      "[CV] END regressor__regression__max_depth=33, regressor__regression__n_estimators=40; total time=   0.3s\n",
      "[CV] END regressor__regression__max_depth=33, regressor__regression__n_estimators=40; total time=   0.4s\n",
      "[CV] END regressor__regression__max_depth=33, regressor__regression__n_estimators=40; total time=   0.6s\n",
      "[CV] END regressor__regression__max_depth=33, regressor__regression__n_estimators=50; total time=   0.2s\n",
      "[CV] END regressor__regression__max_depth=33, regressor__regression__n_estimators=50; total time=   0.4s\n",
      "[CV] END regressor__regression__max_depth=33, regressor__regression__n_estimators=50; total time=   0.5s\n",
      "[CV] END regressor__regression__max_depth=33, regressor__regression__n_estimators=50; total time=   0.8s\n",
      "[CV] END regressor__regression__max_depth=38, regressor__regression__n_estimators=10; total time=   0.1s\n",
      "[CV] END regressor__regression__max_depth=38, regressor__regression__n_estimators=10; total time=   0.1s\n",
      "[CV] END regressor__regression__max_depth=38, regressor__regression__n_estimators=10; total time=   0.1s\n",
      "[CV] END regressor__regression__max_depth=38, regressor__regression__n_estimators=10; total time=   0.2s\n",
      "[CV] END regressor__regression__max_depth=38, regressor__regression__n_estimators=20; total time=   0.1s\n",
      "[CV] END regressor__regression__max_depth=38, regressor__regression__n_estimators=20; total time=   0.2s\n",
      "[CV] END regressor__regression__max_depth=38, regressor__regression__n_estimators=20; total time=   0.2s\n",
      "[CV] END regressor__regression__max_depth=38, regressor__regression__n_estimators=20; total time=   0.3s\n",
      "[CV] END regressor__regression__max_depth=38, regressor__regression__n_estimators=30; total time=   0.1s\n",
      "[CV] END regressor__regression__max_depth=38, regressor__regression__n_estimators=30; total time=   0.2s\n",
      "[CV] END regressor__regression__max_depth=38, regressor__regression__n_estimators=30; total time=   0.3s\n",
      "[CV] END regressor__regression__max_depth=38, regressor__regression__n_estimators=30; total time=   0.5s\n",
      "[CV] END regressor__regression__max_depth=38, regressor__regression__n_estimators=40; total time=   0.2s\n",
      "[CV] END regressor__regression__max_depth=38, regressor__regression__n_estimators=40; total time=   0.3s\n",
      "[CV] END regressor__regression__max_depth=38, regressor__regression__n_estimators=40; total time=   0.5s\n",
      "[CV] END regressor__regression__max_depth=38, regressor__regression__n_estimators=40; total time=   0.6s\n",
      "[CV] END regressor__regression__max_depth=38, regressor__regression__n_estimators=50; total time=   0.2s\n",
      "[CV] END regressor__regression__max_depth=38, regressor__regression__n_estimators=50; total time=   0.4s\n",
      "[CV] END regressor__regression__max_depth=38, regressor__regression__n_estimators=50; total time=   0.5s\n",
      "[CV] END regressor__regression__max_depth=38, regressor__regression__n_estimators=50; total time=   0.7s\n",
      "\n",
      "RandomForestRegressor() model:\n",
      "The best parameters across ALL searched params: \n",
      "   {'regressor__regression__max_depth': 18, 'regressor__regression__n_estimators': 30}\n",
      "The best score across ALL searched params: 25.916\n"
     ]
    }
   ],
   "source": [
    "# define model\n",
    "model_forest = RandomForestRegressor()\n",
    "\n",
    "# define pipeline\n",
    "steps = [('preprocessing', preprocess), ('regression', model_forest)]\n",
    "pipeline = Pipeline(steps)\n",
    "\n",
    "# prepare the model with target scaling\n",
    "full_forest_model = TransformedTargetRegressor(regressor=pipeline, transformer=StandardScaler())\n",
    "\n",
    "# define parameters for the gridsearch\n",
    "param_forest = {'regressor__regression__n_estimators' : range(10, 51, 10),\n",
    "                'regressor__regression__max_depth' : range(3, 40, 5)}\n",
    "\n",
    "# Perform the grid search cross validation\n",
    "grid_forest = GridSearchCV(full_forest_model, param_grid=param_forest, cv=tscv, scoring='neg_root_mean_squared_error', verbose=2, n_jobs=-1)\n",
    "results_forest = grid_forest.fit(train_X, train_y)\n",
    "\n",
    "# print resulting best score and parameters - RandomForestRegressor\n",
    "print(\"\\nRandomForestRegressor() model:\")\n",
    "print('The best parameters across ALL searched params: \\n   {}' .format(grid_forest.best_params_))\n",
    "print('The best score across ALL searched params: {:.3f}' .format(-grid_forest.best_score_))\n",
    "cv_results_forest = pd.DataFrame.from_dict(results_forest.cv_results_)"
   ]
  },
  {
   "cell_type": "code",
   "execution_count": 18,
   "metadata": {},
   "outputs": [
    {
     "data": {
      "text/html": [
       "<div>\n",
       "<style scoped>\n",
       "    .dataframe tbody tr th:only-of-type {\n",
       "        vertical-align: middle;\n",
       "    }\n",
       "\n",
       "    .dataframe tbody tr th {\n",
       "        vertical-align: top;\n",
       "    }\n",
       "\n",
       "    .dataframe thead th {\n",
       "        text-align: right;\n",
       "    }\n",
       "</style>\n",
       "<table border=\"1\" class=\"dataframe\">\n",
       "  <thead>\n",
       "    <tr style=\"text-align: right;\">\n",
       "      <th></th>\n",
       "      <th>param_regressor__regression__max_depth</th>\n",
       "      <th>param_regressor__regression__n_estimators</th>\n",
       "      <th>mean_test_score</th>\n",
       "      <th>rank_test_score</th>\n",
       "    </tr>\n",
       "  </thead>\n",
       "  <tbody>\n",
       "    <tr>\n",
       "      <th>17</th>\n",
       "      <td>18</td>\n",
       "      <td>30</td>\n",
       "      <td>-25.915894</td>\n",
       "      <td>1</td>\n",
       "    </tr>\n",
       "    <tr>\n",
       "      <th>29</th>\n",
       "      <td>28</td>\n",
       "      <td>50</td>\n",
       "      <td>-25.920195</td>\n",
       "      <td>2</td>\n",
       "    </tr>\n",
       "    <tr>\n",
       "      <th>27</th>\n",
       "      <td>28</td>\n",
       "      <td>30</td>\n",
       "      <td>-25.952242</td>\n",
       "      <td>3</td>\n",
       "    </tr>\n",
       "    <tr>\n",
       "      <th>14</th>\n",
       "      <td>13</td>\n",
       "      <td>50</td>\n",
       "      <td>-25.962133</td>\n",
       "      <td>4</td>\n",
       "    </tr>\n",
       "    <tr>\n",
       "      <th>39</th>\n",
       "      <td>38</td>\n",
       "      <td>50</td>\n",
       "      <td>-25.967248</td>\n",
       "      <td>5</td>\n",
       "    </tr>\n",
       "    <tr>\n",
       "      <th>33</th>\n",
       "      <td>33</td>\n",
       "      <td>40</td>\n",
       "      <td>-25.968148</td>\n",
       "      <td>6</td>\n",
       "    </tr>\n",
       "    <tr>\n",
       "      <th>19</th>\n",
       "      <td>18</td>\n",
       "      <td>50</td>\n",
       "      <td>-25.976886</td>\n",
       "      <td>7</td>\n",
       "    </tr>\n",
       "    <tr>\n",
       "      <th>18</th>\n",
       "      <td>18</td>\n",
       "      <td>40</td>\n",
       "      <td>-25.993264</td>\n",
       "      <td>8</td>\n",
       "    </tr>\n",
       "    <tr>\n",
       "      <th>13</th>\n",
       "      <td>13</td>\n",
       "      <td>40</td>\n",
       "      <td>-26.002850</td>\n",
       "      <td>9</td>\n",
       "    </tr>\n",
       "    <tr>\n",
       "      <th>24</th>\n",
       "      <td>23</td>\n",
       "      <td>50</td>\n",
       "      <td>-26.008842</td>\n",
       "      <td>10</td>\n",
       "    </tr>\n",
       "  </tbody>\n",
       "</table>\n",
       "</div>"
      ],
      "text/plain": [
       "   param_regressor__regression__max_depth  \\\n",
       "17                                     18   \n",
       "29                                     28   \n",
       "27                                     28   \n",
       "14                                     13   \n",
       "39                                     38   \n",
       "33                                     33   \n",
       "19                                     18   \n",
       "18                                     18   \n",
       "13                                     13   \n",
       "24                                     23   \n",
       "\n",
       "   param_regressor__regression__n_estimators  mean_test_score  rank_test_score  \n",
       "17                                        30       -25.915894                1  \n",
       "29                                        50       -25.920195                2  \n",
       "27                                        30       -25.952242                3  \n",
       "14                                        50       -25.962133                4  \n",
       "39                                        50       -25.967248                5  \n",
       "33                                        40       -25.968148                6  \n",
       "19                                        50       -25.976886                7  \n",
       "18                                        40       -25.993264                8  \n",
       "13                                        40       -26.002850                9  \n",
       "24                                        50       -26.008842               10  "
      ]
     },
     "execution_count": 18,
     "metadata": {},
     "output_type": "execute_result"
    }
   ],
   "source": [
    "# let's show the 10 best parameter combinations for random forest models\n",
    "cv_results_forest.sort_values('rank_test_score').head(10)[['param_regressor__regression__max_depth', \n",
    " 'param_regressor__regression__n_estimators', 'mean_test_score', 'rank_test_score']]"
   ]
  },
  {
   "cell_type": "markdown",
   "metadata": {},
   "source": [
    "We can see that the best results in our tests were with a max_depth of 18 and 30 estimators. This gives us an RMSE of \\~25.9, which is an improvement over what we got from the linear regression."
   ]
  },
  {
   "cell_type": "markdown",
   "metadata": {},
   "source": [
    "### Light GBBM (gradient boost) Regression"
   ]
  },
  {
   "cell_type": "code",
   "execution_count": 19,
   "metadata": {},
   "outputs": [
    {
     "name": "stdout",
     "output_type": "stream",
     "text": [
      "Fitting 4 folds for each of 27 candidates, totalling 108 fits\n",
      "[LightGBM] [Warning] min_data_in_leaf is set=10, min_child_samples=20 will be ignored. Current value: min_data_in_leaf=10\n",
      "[CV] END regressor__regression__boosting_type=gbdt, regressor__regression__learning_rate=0.05, regressor__regression__min_data_in_leaf=10; total time=   0.7s\n",
      "[LightGBM] [Warning] min_data_in_leaf is set=10, min_child_samples=20 will be ignored. Current value: min_data_in_leaf=10\n",
      "[CV] END regressor__regression__boosting_type=gbdt, regressor__regression__learning_rate=0.05, regressor__regression__min_data_in_leaf=10; total time=   0.7s\n",
      "[LightGBM] [Warning] min_data_in_leaf is set=10, min_child_samples=20 will be ignored. Current value: min_data_in_leaf=10\n",
      "[CV] END regressor__regression__boosting_type=gbdt, regressor__regression__learning_rate=0.05, regressor__regression__min_data_in_leaf=10; total time=   1.0s\n",
      "[LightGBM] [Warning] min_data_in_leaf is set=10, min_child_samples=20 will be ignored. Current value: min_data_in_leaf=10\n",
      "[CV] END regressor__regression__boosting_type=gbdt, regressor__regression__learning_rate=0.05, regressor__regression__min_data_in_leaf=10; total time=   2.3s\n",
      "[LightGBM] [Warning] min_data_in_leaf is set=100, min_child_samples=20 will be ignored. Current value: min_data_in_leaf=100\n",
      "[CV] END regressor__regression__boosting_type=gbdt, regressor__regression__learning_rate=0.05, regressor__regression__min_data_in_leaf=100; total time=   0.2s\n",
      "[LightGBM] [Warning] min_data_in_leaf is set=100, min_child_samples=20 will be ignored. Current value: min_data_in_leaf=100\n",
      "[CV] END regressor__regression__boosting_type=gbdt, regressor__regression__learning_rate=0.05, regressor__regression__min_data_in_leaf=100; total time=   2.9s\n",
      "[LightGBM] [Warning] min_data_in_leaf is set=100, min_child_samples=20 will be ignored. Current value: min_data_in_leaf=100\n",
      "[CV] END regressor__regression__boosting_type=gbdt, regressor__regression__learning_rate=0.05, regressor__regression__min_data_in_leaf=100; total time=   0.7s\n",
      "[LightGBM] [Warning] min_data_in_leaf is set=100, min_child_samples=20 will be ignored. Current value: min_data_in_leaf=100\n",
      "[CV] END regressor__regression__boosting_type=gbdt, regressor__regression__learning_rate=0.05, regressor__regression__min_data_in_leaf=100; total time=   0.6s\n",
      "[LightGBM] [Warning] min_data_in_leaf is set=1000, min_child_samples=20 will be ignored. Current value: min_data_in_leaf=1000\n",
      "[CV] END regressor__regression__boosting_type=gbdt, regressor__regression__learning_rate=0.05, regressor__regression__min_data_in_leaf=1000; total time=   0.0s\n",
      "[LightGBM] [Warning] min_data_in_leaf is set=1000, min_child_samples=20 will be ignored. Current value: min_data_in_leaf=1000\n",
      "[CV] END regressor__regression__boosting_type=gbdt, regressor__regression__learning_rate=0.05, regressor__regression__min_data_in_leaf=1000; total time=   0.1s\n",
      "[LightGBM] [Warning] min_data_in_leaf is set=1000, min_child_samples=20 will be ignored. Current value: min_data_in_leaf=1000\n",
      "[CV] END regressor__regression__boosting_type=gbdt, regressor__regression__learning_rate=0.05, regressor__regression__min_data_in_leaf=1000; total time=   0.2s\n",
      "[LightGBM] [Warning] min_data_in_leaf is set=1000, min_child_samples=20 will be ignored. Current value: min_data_in_leaf=1000\n",
      "[CV] END regressor__regression__boosting_type=gbdt, regressor__regression__learning_rate=0.05, regressor__regression__min_data_in_leaf=1000; total time=   0.1s\n",
      "[LightGBM] [Warning] min_data_in_leaf is set=10, min_child_samples=20 will be ignored. Current value: min_data_in_leaf=10\n",
      "[CV] END regressor__regression__boosting_type=gbdt, regressor__regression__learning_rate=0.075, regressor__regression__min_data_in_leaf=10; total time=   0.9s\n",
      "[LightGBM] [Warning] min_data_in_leaf is set=10, min_child_samples=20 will be ignored. Current value: min_data_in_leaf=10\n",
      "[CV] END regressor__regression__boosting_type=gbdt, regressor__regression__learning_rate=0.075, regressor__regression__min_data_in_leaf=10; total time=   0.7s\n",
      "[LightGBM] [Warning] min_data_in_leaf is set=10, min_child_samples=20 will be ignored. Current value: min_data_in_leaf=10\n",
      "[CV] END regressor__regression__boosting_type=gbdt, regressor__regression__learning_rate=0.075, regressor__regression__min_data_in_leaf=10; total time=   0.9s\n",
      "[LightGBM] [Warning] min_data_in_leaf is set=10, min_child_samples=20 will be ignored. Current value: min_data_in_leaf=10\n",
      "[CV] END regressor__regression__boosting_type=gbdt, regressor__regression__learning_rate=0.075, regressor__regression__min_data_in_leaf=10; total time=   0.9s\n",
      "[LightGBM] [Warning] min_data_in_leaf is set=100, min_child_samples=20 will be ignored. Current value: min_data_in_leaf=100\n",
      "[CV] END regressor__regression__boosting_type=gbdt, regressor__regression__learning_rate=0.075, regressor__regression__min_data_in_leaf=100; total time=   0.2s\n",
      "[LightGBM] [Warning] min_data_in_leaf is set=100, min_child_samples=20 will be ignored. Current value: min_data_in_leaf=100\n",
      "[CV] END regressor__regression__boosting_type=gbdt, regressor__regression__learning_rate=0.075, regressor__regression__min_data_in_leaf=100; total time=   0.4s\n",
      "[LightGBM] [Warning] min_data_in_leaf is set=100, min_child_samples=20 will be ignored. Current value: min_data_in_leaf=100\n",
      "[CV] END regressor__regression__boosting_type=gbdt, regressor__regression__learning_rate=0.075, regressor__regression__min_data_in_leaf=100; total time=   0.5s\n",
      "[LightGBM] [Warning] min_data_in_leaf is set=100, min_child_samples=20 will be ignored. Current value: min_data_in_leaf=100\n",
      "[CV] END regressor__regression__boosting_type=gbdt, regressor__regression__learning_rate=0.075, regressor__regression__min_data_in_leaf=100; total time=   0.9s\n",
      "[LightGBM] [Warning] min_data_in_leaf is set=1000, min_child_samples=20 will be ignored. Current value: min_data_in_leaf=1000\n",
      "[CV] END regressor__regression__boosting_type=gbdt, regressor__regression__learning_rate=0.075, regressor__regression__min_data_in_leaf=1000; total time=   0.1s\n",
      "[LightGBM] [Warning] min_data_in_leaf is set=1000, min_child_samples=20 will be ignored. Current value: min_data_in_leaf=1000\n",
      "[CV] END regressor__regression__boosting_type=gbdt, regressor__regression__learning_rate=0.075, regressor__regression__min_data_in_leaf=1000; total time=   0.0s\n",
      "[LightGBM] [Warning] min_data_in_leaf is set=1000, min_child_samples=20 will be ignored. Current value: min_data_in_leaf=1000\n",
      "[CV] END regressor__regression__boosting_type=gbdt, regressor__regression__learning_rate=0.075, regressor__regression__min_data_in_leaf=1000; total time=   0.2s\n",
      "[LightGBM] [Warning] min_data_in_leaf is set=1000, min_child_samples=20 will be ignored. Current value: min_data_in_leaf=1000\n",
      "[CV] END regressor__regression__boosting_type=gbdt, regressor__regression__learning_rate=0.075, regressor__regression__min_data_in_leaf=1000; total time=   0.4s\n",
      "[LightGBM] [Warning] min_data_in_leaf is set=10, min_child_samples=20 will be ignored. Current value: min_data_in_leaf=10\n",
      "[CV] END regressor__regression__boosting_type=gbdt, regressor__regression__learning_rate=0.1, regressor__regression__min_data_in_leaf=10; total time=   0.7s\n",
      "[LightGBM] [Warning] min_data_in_leaf is set=10, min_child_samples=20 will be ignored. Current value: min_data_in_leaf=10\n",
      "[CV] END regressor__regression__boosting_type=gbdt, regressor__regression__learning_rate=0.1, regressor__regression__min_data_in_leaf=10; total time=   0.9s\n",
      "[LightGBM] [Warning] min_data_in_leaf is set=10, min_child_samples=20 will be ignored. Current value: min_data_in_leaf=10\n",
      "[CV] END regressor__regression__boosting_type=gbdt, regressor__regression__learning_rate=0.1, regressor__regression__min_data_in_leaf=10; total time=   1.0s\n",
      "[LightGBM] [Warning] min_data_in_leaf is set=10, min_child_samples=20 will be ignored. Current value: min_data_in_leaf=10\n",
      "[CV] END regressor__regression__boosting_type=gbdt, regressor__regression__learning_rate=0.1, regressor__regression__min_data_in_leaf=10; total time=   1.3s\n",
      "[LightGBM] [Warning] min_data_in_leaf is set=100, min_child_samples=20 will be ignored. Current value: min_data_in_leaf=100\n",
      "[CV] END regressor__regression__boosting_type=gbdt, regressor__regression__learning_rate=0.1, regressor__regression__min_data_in_leaf=100; total time=   0.2s\n",
      "[LightGBM] [Warning] min_data_in_leaf is set=100, min_child_samples=20 will be ignored. Current value: min_data_in_leaf=100\n",
      "[CV] END regressor__regression__boosting_type=gbdt, regressor__regression__learning_rate=0.1, regressor__regression__min_data_in_leaf=100; total time=   0.3s\n",
      "[LightGBM] [Warning] min_data_in_leaf is set=100, min_child_samples=20 will be ignored. Current value: min_data_in_leaf=100\n",
      "[CV] END regressor__regression__boosting_type=gbdt, regressor__regression__learning_rate=0.1, regressor__regression__min_data_in_leaf=100; total time=   0.5s\n",
      "[LightGBM] [Warning] min_data_in_leaf is set=100, min_child_samples=20 will be ignored. Current value: min_data_in_leaf=100\n",
      "[CV] END regressor__regression__boosting_type=gbdt, regressor__regression__learning_rate=0.1, regressor__regression__min_data_in_leaf=100; total time=   0.7s\n",
      "[LightGBM] [Warning] min_data_in_leaf is set=1000, min_child_samples=20 will be ignored. Current value: min_data_in_leaf=1000\n",
      "[CV] END regressor__regression__boosting_type=gbdt, regressor__regression__learning_rate=0.1, regressor__regression__min_data_in_leaf=1000; total time=   0.1s\n",
      "[LightGBM] [Warning] min_data_in_leaf is set=1000, min_child_samples=20 will be ignored. Current value: min_data_in_leaf=1000\n",
      "[CV] END regressor__regression__boosting_type=gbdt, regressor__regression__learning_rate=0.1, regressor__regression__min_data_in_leaf=1000; total time=   0.1s\n",
      "[LightGBM] [Warning] min_data_in_leaf is set=1000, min_child_samples=20 will be ignored. Current value: min_data_in_leaf=1000\n",
      "[CV] END regressor__regression__boosting_type=gbdt, regressor__regression__learning_rate=0.1, regressor__regression__min_data_in_leaf=1000; total time=   0.2s\n",
      "[LightGBM] [Warning] min_data_in_leaf is set=1000, min_child_samples=20 will be ignored. Current value: min_data_in_leaf=1000\n",
      "[CV] END regressor__regression__boosting_type=gbdt, regressor__regression__learning_rate=0.1, regressor__regression__min_data_in_leaf=1000; total time=   0.1s\n",
      "[LightGBM] [Warning] min_data_in_leaf is set=10, min_child_samples=20 will be ignored. Current value: min_data_in_leaf=10\n",
      "[CV] END regressor__regression__boosting_type=dart, regressor__regression__learning_rate=0.05, regressor__regression__min_data_in_leaf=10; total time=   0.9s\n",
      "[LightGBM] [Warning] min_data_in_leaf is set=10, min_child_samples=20 will be ignored. Current value: min_data_in_leaf=10\n",
      "[CV] END regressor__regression__boosting_type=dart, regressor__regression__learning_rate=0.05, regressor__regression__min_data_in_leaf=10; total time=   1.3s\n",
      "[LightGBM] [Warning] min_data_in_leaf is set=10, min_child_samples=20 will be ignored. Current value: min_data_in_leaf=10\n",
      "[CV] END regressor__regression__boosting_type=dart, regressor__regression__learning_rate=0.05, regressor__regression__min_data_in_leaf=10; total time=   1.2s\n",
      "[LightGBM] [Warning] min_data_in_leaf is set=10, min_child_samples=20 will be ignored. Current value: min_data_in_leaf=10\n",
      "[CV] END regressor__regression__boosting_type=dart, regressor__regression__learning_rate=0.05, regressor__regression__min_data_in_leaf=10; total time=   1.3s\n",
      "[LightGBM] [Warning] min_data_in_leaf is set=100, min_child_samples=20 will be ignored. Current value: min_data_in_leaf=100\n",
      "[CV] END regressor__regression__boosting_type=dart, regressor__regression__learning_rate=0.05, regressor__regression__min_data_in_leaf=100; total time=   0.3s\n",
      "[LightGBM] [Warning] min_data_in_leaf is set=100, min_child_samples=20 will be ignored. Current value: min_data_in_leaf=100\n",
      "[CV] END regressor__regression__boosting_type=dart, regressor__regression__learning_rate=0.05, regressor__regression__min_data_in_leaf=100; total time=   0.5s\n",
      "[LightGBM] [Warning] min_data_in_leaf is set=100, min_child_samples=20 will be ignored. Current value: min_data_in_leaf=100\n",
      "[CV] END regressor__regression__boosting_type=dart, regressor__regression__learning_rate=0.05, regressor__regression__min_data_in_leaf=100; total time=   0.7s\n",
      "[LightGBM] [Warning] min_data_in_leaf is set=100, min_child_samples=20 will be ignored. Current value: min_data_in_leaf=100\n",
      "[CV] END regressor__regression__boosting_type=dart, regressor__regression__learning_rate=0.05, regressor__regression__min_data_in_leaf=100; total time=   1.1s\n",
      "[LightGBM] [Warning] min_data_in_leaf is set=1000, min_child_samples=20 will be ignored. Current value: min_data_in_leaf=1000\n",
      "[CV] END regressor__regression__boosting_type=dart, regressor__regression__learning_rate=0.05, regressor__regression__min_data_in_leaf=1000; total time=   0.1s\n",
      "[LightGBM] [Warning] min_data_in_leaf is set=1000, min_child_samples=20 will be ignored. Current value: min_data_in_leaf=1000\n",
      "[CV] END regressor__regression__boosting_type=dart, regressor__regression__learning_rate=0.05, regressor__regression__min_data_in_leaf=1000; total time=   0.1s\n",
      "[LightGBM] [Warning] min_data_in_leaf is set=1000, min_child_samples=20 will be ignored. Current value: min_data_in_leaf=1000\n",
      "[CV] END regressor__regression__boosting_type=dart, regressor__regression__learning_rate=0.05, regressor__regression__min_data_in_leaf=1000; total time=   0.2s\n",
      "[LightGBM] [Warning] min_data_in_leaf is set=1000, min_child_samples=20 will be ignored. Current value: min_data_in_leaf=1000\n",
      "[CV] END regressor__regression__boosting_type=dart, regressor__regression__learning_rate=0.05, regressor__regression__min_data_in_leaf=1000; total time=   0.3s\n",
      "[LightGBM] [Warning] min_data_in_leaf is set=10, min_child_samples=20 will be ignored. Current value: min_data_in_leaf=10\n",
      "[CV] END regressor__regression__boosting_type=dart, regressor__regression__learning_rate=0.075, regressor__regression__min_data_in_leaf=10; total time=   0.9s\n",
      "[LightGBM] [Warning] min_data_in_leaf is set=10, min_child_samples=20 will be ignored. Current value: min_data_in_leaf=10\n",
      "[CV] END regressor__regression__boosting_type=dart, regressor__regression__learning_rate=0.075, regressor__regression__min_data_in_leaf=10; total time=   1.1s\n",
      "[LightGBM] [Warning] min_data_in_leaf is set=10, min_child_samples=20 will be ignored. Current value: min_data_in_leaf=10\n",
      "[CV] END regressor__regression__boosting_type=dart, regressor__regression__learning_rate=0.075, regressor__regression__min_data_in_leaf=10; total time=   1.4s\n",
      "[LightGBM] [Warning] min_data_in_leaf is set=10, min_child_samples=20 will be ignored. Current value: min_data_in_leaf=10\n",
      "[CV] END regressor__regression__boosting_type=dart, regressor__regression__learning_rate=0.075, regressor__regression__min_data_in_leaf=10; total time=   1.6s\n",
      "[LightGBM] [Warning] min_data_in_leaf is set=100, min_child_samples=20 will be ignored. Current value: min_data_in_leaf=100\n",
      "[CV] END regressor__regression__boosting_type=dart, regressor__regression__learning_rate=0.075, regressor__regression__min_data_in_leaf=100; total time=   0.2s\n",
      "[LightGBM] [Warning] min_data_in_leaf is set=100, min_child_samples=20 will be ignored. Current value: min_data_in_leaf=100\n",
      "[CV] END regressor__regression__boosting_type=dart, regressor__regression__learning_rate=0.075, regressor__regression__min_data_in_leaf=100; total time=   0.6s\n",
      "[LightGBM] [Warning] min_data_in_leaf is set=100, min_child_samples=20 will be ignored. Current value: min_data_in_leaf=100\n",
      "[CV] END regressor__regression__boosting_type=dart, regressor__regression__learning_rate=0.075, regressor__regression__min_data_in_leaf=100; total time=   0.7s\n",
      "[LightGBM] [Warning] min_data_in_leaf is set=100, min_child_samples=20 will be ignored. Current value: min_data_in_leaf=100\n",
      "[CV] END regressor__regression__boosting_type=dart, regressor__regression__learning_rate=0.075, regressor__regression__min_data_in_leaf=100; total time=   0.8s\n",
      "[LightGBM] [Warning] min_data_in_leaf is set=1000, min_child_samples=20 will be ignored. Current value: min_data_in_leaf=1000\n",
      "[CV] END regressor__regression__boosting_type=dart, regressor__regression__learning_rate=0.075, regressor__regression__min_data_in_leaf=1000; total time=   0.1s\n",
      "[LightGBM] [Warning] min_data_in_leaf is set=1000, min_child_samples=20 will be ignored. Current value: min_data_in_leaf=1000\n",
      "[CV] END regressor__regression__boosting_type=dart, regressor__regression__learning_rate=0.075, regressor__regression__min_data_in_leaf=1000; total time=   0.1s\n",
      "[LightGBM] [Warning] min_data_in_leaf is set=1000, min_child_samples=20 will be ignored. Current value: min_data_in_leaf=1000\n",
      "[CV] END regressor__regression__boosting_type=dart, regressor__regression__learning_rate=0.075, regressor__regression__min_data_in_leaf=1000; total time=   0.2s\n",
      "[LightGBM] [Warning] min_data_in_leaf is set=1000, min_child_samples=20 will be ignored. Current value: min_data_in_leaf=1000\n",
      "[CV] END regressor__regression__boosting_type=dart, regressor__regression__learning_rate=0.075, regressor__regression__min_data_in_leaf=1000; total time=   0.3s\n",
      "[LightGBM] [Warning] min_data_in_leaf is set=10, min_child_samples=20 will be ignored. Current value: min_data_in_leaf=10\n",
      "[CV] END regressor__regression__boosting_type=dart, regressor__regression__learning_rate=0.1, regressor__regression__min_data_in_leaf=10; total time=   1.0s\n",
      "[LightGBM] [Warning] min_data_in_leaf is set=10, min_child_samples=20 will be ignored. Current value: min_data_in_leaf=10\n",
      "[CV] END regressor__regression__boosting_type=dart, regressor__regression__learning_rate=0.1, regressor__regression__min_data_in_leaf=10; total time=   1.2s\n",
      "[LightGBM] [Warning] min_data_in_leaf is set=10, min_child_samples=20 will be ignored. Current value: min_data_in_leaf=10\n",
      "[CV] END regressor__regression__boosting_type=dart, regressor__regression__learning_rate=0.1, regressor__regression__min_data_in_leaf=10; total time=   1.2s\n",
      "[LightGBM] [Warning] min_data_in_leaf is set=10, min_child_samples=20 will be ignored. Current value: min_data_in_leaf=10\n",
      "[CV] END regressor__regression__boosting_type=dart, regressor__regression__learning_rate=0.1, regressor__regression__min_data_in_leaf=10; total time=   1.5s\n",
      "[LightGBM] [Warning] min_data_in_leaf is set=100, min_child_samples=20 will be ignored. Current value: min_data_in_leaf=100\n",
      "[CV] END regressor__regression__boosting_type=dart, regressor__regression__learning_rate=0.1, regressor__regression__min_data_in_leaf=100; total time=   0.5s\n",
      "[LightGBM] [Warning] min_data_in_leaf is set=100, min_child_samples=20 will be ignored. Current value: min_data_in_leaf=100\n",
      "[CV] END regressor__regression__boosting_type=dart, regressor__regression__learning_rate=0.1, regressor__regression__min_data_in_leaf=100; total time=   0.5s\n",
      "[LightGBM] [Warning] min_data_in_leaf is set=100, min_child_samples=20 will be ignored. Current value: min_data_in_leaf=100\n",
      "[CV] END regressor__regression__boosting_type=dart, regressor__regression__learning_rate=0.1, regressor__regression__min_data_in_leaf=100; total time=   0.7s\n",
      "[LightGBM] [Warning] min_data_in_leaf is set=100, min_child_samples=20 will be ignored. Current value: min_data_in_leaf=100\n",
      "[CV] END regressor__regression__boosting_type=dart, regressor__regression__learning_rate=0.1, regressor__regression__min_data_in_leaf=100; total time=   1.1s\n",
      "[LightGBM] [Warning] min_data_in_leaf is set=1000, min_child_samples=20 will be ignored. Current value: min_data_in_leaf=1000\n",
      "[CV] END regressor__regression__boosting_type=dart, regressor__regression__learning_rate=0.1, regressor__regression__min_data_in_leaf=1000; total time=   0.1s\n",
      "[LightGBM] [Warning] min_data_in_leaf is set=1000, min_child_samples=20 will be ignored. Current value: min_data_in_leaf=1000\n",
      "[CV] END regressor__regression__boosting_type=dart, regressor__regression__learning_rate=0.1, regressor__regression__min_data_in_leaf=1000; total time=   0.0s\n",
      "[LightGBM] [Warning] min_data_in_leaf is set=1000, min_child_samples=20 will be ignored. Current value: min_data_in_leaf=1000\n",
      "[CV] END regressor__regression__boosting_type=dart, regressor__regression__learning_rate=0.1, regressor__regression__min_data_in_leaf=1000; total time=   0.2s\n",
      "[LightGBM] [Warning] min_data_in_leaf is set=1000, min_child_samples=20 will be ignored. Current value: min_data_in_leaf=1000\n",
      "[CV] END regressor__regression__boosting_type=dart, regressor__regression__learning_rate=0.1, regressor__regression__min_data_in_leaf=1000; total time=   0.2s\n",
      "[LightGBM] [Warning] min_data_in_leaf is set=10, min_child_samples=20 will be ignored. Current value: min_data_in_leaf=10\n",
      "[CV] END regressor__regression__boosting_type=goss, regressor__regression__learning_rate=0.05, regressor__regression__min_data_in_leaf=10; total time=   0.5s\n",
      "[LightGBM] [Warning] min_data_in_leaf is set=10, min_child_samples=20 will be ignored. Current value: min_data_in_leaf=10\n",
      "[CV] END regressor__regression__boosting_type=goss, regressor__regression__learning_rate=0.05, regressor__regression__min_data_in_leaf=10; total time=   0.9s\n",
      "[LightGBM] [Warning] min_data_in_leaf is set=10, min_child_samples=20 will be ignored. Current value: min_data_in_leaf=10\n",
      "[CV] END regressor__regression__boosting_type=goss, regressor__regression__learning_rate=0.05, regressor__regression__min_data_in_leaf=10; total time=   0.9s\n",
      "[LightGBM] [Warning] min_data_in_leaf is set=10, min_child_samples=20 will be ignored. Current value: min_data_in_leaf=10\n",
      "[CV] END regressor__regression__boosting_type=goss, regressor__regression__learning_rate=0.05, regressor__regression__min_data_in_leaf=10; total time=   1.1s\n",
      "[LightGBM] [Warning] min_data_in_leaf is set=100, min_child_samples=20 will be ignored. Current value: min_data_in_leaf=100\n",
      "[CV] END regressor__regression__boosting_type=goss, regressor__regression__learning_rate=0.05, regressor__regression__min_data_in_leaf=100; total time=   0.2s\n",
      "[LightGBM] [Warning] min_data_in_leaf is set=100, min_child_samples=20 will be ignored. Current value: min_data_in_leaf=100\n",
      "[CV] END regressor__regression__boosting_type=goss, regressor__regression__learning_rate=0.05, regressor__regression__min_data_in_leaf=100; total time=   0.4s\n",
      "[LightGBM] [Warning] min_data_in_leaf is set=100, min_child_samples=20 will be ignored. Current value: min_data_in_leaf=100\n",
      "[CV] END regressor__regression__boosting_type=goss, regressor__regression__learning_rate=0.05, regressor__regression__min_data_in_leaf=100; total time=   0.5s\n",
      "[LightGBM] [Warning] min_data_in_leaf is set=100, min_child_samples=20 will be ignored. Current value: min_data_in_leaf=100\n",
      "[CV] END regressor__regression__boosting_type=goss, regressor__regression__learning_rate=0.05, regressor__regression__min_data_in_leaf=100; total time=   0.7s\n",
      "[LightGBM] [Warning] min_data_in_leaf is set=1000, min_child_samples=20 will be ignored. Current value: min_data_in_leaf=1000\n",
      "[CV] END regressor__regression__boosting_type=goss, regressor__regression__learning_rate=0.05, regressor__regression__min_data_in_leaf=1000; total time=   0.1s\n",
      "[LightGBM] [Warning] min_data_in_leaf is set=1000, min_child_samples=20 will be ignored. Current value: min_data_in_leaf=1000\n",
      "[CV] END regressor__regression__boosting_type=goss, regressor__regression__learning_rate=0.05, regressor__regression__min_data_in_leaf=1000; total time=   0.1s\n",
      "[LightGBM] [Warning] min_data_in_leaf is set=1000, min_child_samples=20 will be ignored. Current value: min_data_in_leaf=1000\n",
      "[CV] END regressor__regression__boosting_type=goss, regressor__regression__learning_rate=0.05, regressor__regression__min_data_in_leaf=1000; total time=   0.1s\n",
      "[LightGBM] [Warning] min_data_in_leaf is set=1000, min_child_samples=20 will be ignored. Current value: min_data_in_leaf=1000\n",
      "[CV] END regressor__regression__boosting_type=goss, regressor__regression__learning_rate=0.05, regressor__regression__min_data_in_leaf=1000; total time=   0.3s\n",
      "[LightGBM] [Warning] min_data_in_leaf is set=10, min_child_samples=20 will be ignored. Current value: min_data_in_leaf=10\n",
      "[CV] END regressor__regression__boosting_type=goss, regressor__regression__learning_rate=0.075, regressor__regression__min_data_in_leaf=10; total time=   0.5s\n",
      "[LightGBM] [Warning] min_data_in_leaf is set=10, min_child_samples=20 will be ignored. Current value: min_data_in_leaf=10\n",
      "[CV] END regressor__regression__boosting_type=goss, regressor__regression__learning_rate=0.075, regressor__regression__min_data_in_leaf=10; total time=   1.0s\n",
      "[LightGBM] [Warning] min_data_in_leaf is set=10, min_child_samples=20 will be ignored. Current value: min_data_in_leaf=10\n",
      "[CV] END regressor__regression__boosting_type=goss, regressor__regression__learning_rate=0.075, regressor__regression__min_data_in_leaf=10; total time=   0.8s\n",
      "[LightGBM] [Warning] min_data_in_leaf is set=10, min_child_samples=20 will be ignored. Current value: min_data_in_leaf=10\n",
      "[CV] END regressor__regression__boosting_type=goss, regressor__regression__learning_rate=0.075, regressor__regression__min_data_in_leaf=10; total time=   1.1s\n",
      "[LightGBM] [Warning] min_data_in_leaf is set=100, min_child_samples=20 will be ignored. Current value: min_data_in_leaf=100\n",
      "[CV] END regressor__regression__boosting_type=goss, regressor__regression__learning_rate=0.075, regressor__regression__min_data_in_leaf=100; total time=   0.1s\n",
      "[LightGBM] [Warning] min_data_in_leaf is set=100, min_child_samples=20 will be ignored. Current value: min_data_in_leaf=100\n",
      "[CV] END regressor__regression__boosting_type=goss, regressor__regression__learning_rate=0.075, regressor__regression__min_data_in_leaf=100; total time=   0.3s\n",
      "[LightGBM] [Warning] min_data_in_leaf is set=100, min_child_samples=20 will be ignored. Current value: min_data_in_leaf=100\n",
      "[CV] END regressor__regression__boosting_type=goss, regressor__regression__learning_rate=0.075, regressor__regression__min_data_in_leaf=100; total time=   0.3s\n",
      "[LightGBM] [Warning] min_data_in_leaf is set=100, min_child_samples=20 will be ignored. Current value: min_data_in_leaf=100\n",
      "[CV] END regressor__regression__boosting_type=goss, regressor__regression__learning_rate=0.075, regressor__regression__min_data_in_leaf=100; total time=   0.6s\n",
      "[LightGBM] [Warning] min_data_in_leaf is set=1000, min_child_samples=20 will be ignored. Current value: min_data_in_leaf=1000\n",
      "[CV] END regressor__regression__boosting_type=goss, regressor__regression__learning_rate=0.075, regressor__regression__min_data_in_leaf=1000; total time=   0.1s\n",
      "[LightGBM] [Warning] min_data_in_leaf is set=1000, min_child_samples=20 will be ignored. Current value: min_data_in_leaf=1000\n",
      "[CV] END regressor__regression__boosting_type=goss, regressor__regression__learning_rate=0.075, regressor__regression__min_data_in_leaf=1000; total time=   0.1s\n",
      "[LightGBM] [Warning] min_data_in_leaf is set=1000, min_child_samples=20 will be ignored. Current value: min_data_in_leaf=1000\n",
      "[CV] END regressor__regression__boosting_type=goss, regressor__regression__learning_rate=0.075, regressor__regression__min_data_in_leaf=1000; total time=   0.2s\n",
      "[LightGBM] [Warning] min_data_in_leaf is set=1000, min_child_samples=20 will be ignored. Current value: min_data_in_leaf=1000\n",
      "[CV] END regressor__regression__boosting_type=goss, regressor__regression__learning_rate=0.075, regressor__regression__min_data_in_leaf=1000; total time=   0.2s\n",
      "[LightGBM] [Warning] min_data_in_leaf is set=10, min_child_samples=20 will be ignored. Current value: min_data_in_leaf=10\n",
      "[CV] END regressor__regression__boosting_type=goss, regressor__regression__learning_rate=0.1, regressor__regression__min_data_in_leaf=10; total time=   0.5s\n",
      "[LightGBM] [Warning] min_data_in_leaf is set=10, min_child_samples=20 will be ignored. Current value: min_data_in_leaf=10\n",
      "[CV] END regressor__regression__boosting_type=goss, regressor__regression__learning_rate=0.1, regressor__regression__min_data_in_leaf=10; total time=   0.9s\n",
      "[LightGBM] [Warning] min_data_in_leaf is set=10, min_child_samples=20 will be ignored. Current value: min_data_in_leaf=10\n",
      "[CV] END regressor__regression__boosting_type=goss, regressor__regression__learning_rate=0.1, regressor__regression__min_data_in_leaf=10; total time=   1.1s\n",
      "[LightGBM] [Warning] min_data_in_leaf is set=10, min_child_samples=20 will be ignored. Current value: min_data_in_leaf=10\n",
      "[CV] END regressor__regression__boosting_type=goss, regressor__regression__learning_rate=0.1, regressor__regression__min_data_in_leaf=10; total time=   1.2s\n",
      "[LightGBM] [Warning] min_data_in_leaf is set=100, min_child_samples=20 will be ignored. Current value: min_data_in_leaf=100\n",
      "[CV] END regressor__regression__boosting_type=goss, regressor__regression__learning_rate=0.1, regressor__regression__min_data_in_leaf=100; total time=   0.1s\n",
      "[LightGBM] [Warning] min_data_in_leaf is set=100, min_child_samples=20 will be ignored. Current value: min_data_in_leaf=100\n",
      "[CV] END regressor__regression__boosting_type=goss, regressor__regression__learning_rate=0.1, regressor__regression__min_data_in_leaf=100; total time=   0.3s\n",
      "[LightGBM] [Warning] min_data_in_leaf is set=100, min_child_samples=20 will be ignored. Current value: min_data_in_leaf=100\n",
      "[CV] END regressor__regression__boosting_type=goss, regressor__regression__learning_rate=0.1, regressor__regression__min_data_in_leaf=100; total time=   0.8s\n",
      "[LightGBM] [Warning] min_data_in_leaf is set=100, min_child_samples=20 will be ignored. Current value: min_data_in_leaf=100\n",
      "[CV] END regressor__regression__boosting_type=goss, regressor__regression__learning_rate=0.1, regressor__regression__min_data_in_leaf=100; total time=   0.3s\n",
      "[LightGBM] [Warning] min_data_in_leaf is set=1000, min_child_samples=20 will be ignored. Current value: min_data_in_leaf=1000\n",
      "[CV] END regressor__regression__boosting_type=goss, regressor__regression__learning_rate=0.1, regressor__regression__min_data_in_leaf=1000; total time=   0.1s\n",
      "[LightGBM] [Warning] min_data_in_leaf is set=1000, min_child_samples=20 will be ignored. Current value: min_data_in_leaf=1000\n",
      "[CV] END regressor__regression__boosting_type=goss, regressor__regression__learning_rate=0.1, regressor__regression__min_data_in_leaf=1000; total time=   0.1s\n",
      "[LightGBM] [Warning] min_data_in_leaf is set=1000, min_child_samples=20 will be ignored. Current value: min_data_in_leaf=1000\n",
      "[CV] END regressor__regression__boosting_type=goss, regressor__regression__learning_rate=0.1, regressor__regression__min_data_in_leaf=1000; total time=   0.2s\n",
      "[LightGBM] [Warning] min_data_in_leaf is set=1000, min_child_samples=20 will be ignored. Current value: min_data_in_leaf=1000\n",
      "[CV] END regressor__regression__boosting_type=goss, regressor__regression__learning_rate=0.1, regressor__regression__min_data_in_leaf=1000; total time=   0.2s\n",
      "[LightGBM] [Warning] min_data_in_leaf is set=10, min_child_samples=20 will be ignored. Current value: min_data_in_leaf=10\n",
      "\n",
      "LGBMRegressor() model:\n",
      "The best parameters across ALL searched params: \n",
      "   {'regressor__regression__boosting_type': 'gbdt', 'regressor__regression__learning_rate': 0.05, 'regressor__regression__min_data_in_leaf': 10}\n",
      "The best score across ALL searched params: 26.385\n"
     ]
    }
   ],
   "source": [
    "# define model\n",
    "model_lgbm = LGBMRegressor()\n",
    "\n",
    "# define pipeline\n",
    "steps = [('preprocessing', preprocess), ('regression', model_lgbm)]\n",
    "pipeline = Pipeline(steps)\n",
    "\n",
    "# prepare the model with target scaling\n",
    "full_lightgb_model = TransformedTargetRegressor(regressor=pipeline, transformer=StandardScaler())\n",
    "\n",
    "# define parameters for the gridsearch\n",
    "param_lgbm = {'regressor__regression__boosting_type' : ['gbdt', 'dart', 'goss'],\n",
    "              'regressor__regression__learning_rate' : [0.05, 0.075, 0.1],\n",
    "              'regressor__regression__min_data_in_leaf' : [10, 100, 1000]}\n",
    "\n",
    "# Perform the grid search cross validation\n",
    "grid_lgbm = GridSearchCV(full_lightgb_model, param_grid=param_lgbm, cv=tscv, scoring='neg_root_mean_squared_error', verbose=2, n_jobs=-1)\n",
    "results_lgbm = grid_lgbm.fit(train_X, train_y)\n",
    "\n",
    "# print resulting best score and parameters - RandomForestRegressor\n",
    "print(\"\\nLGBMRegressor() model:\")\n",
    "print('The best parameters across ALL searched params: \\n   {}' .format(grid_lgbm.best_params_))\n",
    "print('The best score across ALL searched params: {:.3f}' .format(-grid_lgbm.best_score_))\n",
    "cv_results_lgbm = pd.DataFrame.from_dict(results_lgbm.cv_results_)"
   ]
  },
  {
   "cell_type": "code",
   "execution_count": 20,
   "metadata": {},
   "outputs": [
    {
     "data": {
      "text/html": [
       "<div>\n",
       "<style scoped>\n",
       "    .dataframe tbody tr th:only-of-type {\n",
       "        vertical-align: middle;\n",
       "    }\n",
       "\n",
       "    .dataframe tbody tr th {\n",
       "        vertical-align: top;\n",
       "    }\n",
       "\n",
       "    .dataframe thead th {\n",
       "        text-align: right;\n",
       "    }\n",
       "</style>\n",
       "<table border=\"1\" class=\"dataframe\">\n",
       "  <thead>\n",
       "    <tr style=\"text-align: right;\">\n",
       "      <th></th>\n",
       "      <th>param_regressor__regression__boosting_type</th>\n",
       "      <th>param_regressor__regression__learning_rate</th>\n",
       "      <th>param_regressor__regression__min_data_in_leaf</th>\n",
       "      <th>mean_test_score</th>\n",
       "      <th>rank_test_score</th>\n",
       "    </tr>\n",
       "  </thead>\n",
       "  <tbody>\n",
       "    <tr>\n",
       "      <th>0</th>\n",
       "      <td>gbdt</td>\n",
       "      <td>0.05</td>\n",
       "      <td>10</td>\n",
       "      <td>-26.385146</td>\n",
       "      <td>1</td>\n",
       "    </tr>\n",
       "    <tr>\n",
       "      <th>15</th>\n",
       "      <td>dart</td>\n",
       "      <td>0.1</td>\n",
       "      <td>10</td>\n",
       "      <td>-26.946538</td>\n",
       "      <td>2</td>\n",
       "    </tr>\n",
       "    <tr>\n",
       "      <th>18</th>\n",
       "      <td>goss</td>\n",
       "      <td>0.05</td>\n",
       "      <td>10</td>\n",
       "      <td>-26.948212</td>\n",
       "      <td>3</td>\n",
       "    </tr>\n",
       "    <tr>\n",
       "      <th>3</th>\n",
       "      <td>gbdt</td>\n",
       "      <td>0.075</td>\n",
       "      <td>10</td>\n",
       "      <td>-27.088247</td>\n",
       "      <td>4</td>\n",
       "    </tr>\n",
       "    <tr>\n",
       "      <th>7</th>\n",
       "      <td>gbdt</td>\n",
       "      <td>0.1</td>\n",
       "      <td>100</td>\n",
       "      <td>-27.158136</td>\n",
       "      <td>5</td>\n",
       "    </tr>\n",
       "    <tr>\n",
       "      <th>6</th>\n",
       "      <td>gbdt</td>\n",
       "      <td>0.1</td>\n",
       "      <td>10</td>\n",
       "      <td>-27.238407</td>\n",
       "      <td>6</td>\n",
       "    </tr>\n",
       "    <tr>\n",
       "      <th>4</th>\n",
       "      <td>gbdt</td>\n",
       "      <td>0.075</td>\n",
       "      <td>100</td>\n",
       "      <td>-27.307815</td>\n",
       "      <td>7</td>\n",
       "    </tr>\n",
       "    <tr>\n",
       "      <th>12</th>\n",
       "      <td>dart</td>\n",
       "      <td>0.075</td>\n",
       "      <td>10</td>\n",
       "      <td>-27.371155</td>\n",
       "      <td>8</td>\n",
       "    </tr>\n",
       "    <tr>\n",
       "      <th>1</th>\n",
       "      <td>gbdt</td>\n",
       "      <td>0.05</td>\n",
       "      <td>100</td>\n",
       "      <td>-27.646042</td>\n",
       "      <td>9</td>\n",
       "    </tr>\n",
       "    <tr>\n",
       "      <th>21</th>\n",
       "      <td>goss</td>\n",
       "      <td>0.075</td>\n",
       "      <td>10</td>\n",
       "      <td>-27.681740</td>\n",
       "      <td>10</td>\n",
       "    </tr>\n",
       "  </tbody>\n",
       "</table>\n",
       "</div>"
      ],
      "text/plain": [
       "   param_regressor__regression__boosting_type  \\\n",
       "0                                        gbdt   \n",
       "15                                       dart   \n",
       "18                                       goss   \n",
       "3                                        gbdt   \n",
       "7                                        gbdt   \n",
       "6                                        gbdt   \n",
       "4                                        gbdt   \n",
       "12                                       dart   \n",
       "1                                        gbdt   \n",
       "21                                       goss   \n",
       "\n",
       "   param_regressor__regression__learning_rate  \\\n",
       "0                                        0.05   \n",
       "15                                        0.1   \n",
       "18                                       0.05   \n",
       "3                                       0.075   \n",
       "7                                         0.1   \n",
       "6                                         0.1   \n",
       "4                                       0.075   \n",
       "12                                      0.075   \n",
       "1                                        0.05   \n",
       "21                                      0.075   \n",
       "\n",
       "   param_regressor__regression__min_data_in_leaf  mean_test_score  \\\n",
       "0                                             10       -26.385146   \n",
       "15                                            10       -26.946538   \n",
       "18                                            10       -26.948212   \n",
       "3                                             10       -27.088247   \n",
       "7                                            100       -27.158136   \n",
       "6                                             10       -27.238407   \n",
       "4                                            100       -27.307815   \n",
       "12                                            10       -27.371155   \n",
       "1                                            100       -27.646042   \n",
       "21                                            10       -27.681740   \n",
       "\n",
       "    rank_test_score  \n",
       "0                 1  \n",
       "15                2  \n",
       "18                3  \n",
       "3                 4  \n",
       "7                 5  \n",
       "6                 6  \n",
       "4                 7  \n",
       "12                8  \n",
       "1                 9  \n",
       "21               10  "
      ]
     },
     "execution_count": 20,
     "metadata": {},
     "output_type": "execute_result"
    }
   ],
   "source": [
    "# let's show the 10 best parameter combinations for lgbm \n",
    "cv_results_lgbm.sort_values('rank_test_score').head(10)[['param_regressor__regression__boosting_type', \n",
    " 'param_regressor__regression__learning_rate', \n",
    "'param_regressor__regression__min_data_in_leaf','mean_test_score', 'rank_test_score']]"
   ]
  },
  {
   "cell_type": "markdown",
   "metadata": {},
   "source": [
    "Our best results were achieved using the gbdt boosting type algorithm, with the default learning rate of 0.05 and 10 minimum samples per leaf. This gave us a score of \\~26, which is about the same as the Random Forest model but obviously better than the Linear Regression model. Also, this took less time to train than the random forest model."
   ]
  },
  {
   "cell_type": "markdown",
   "metadata": {},
   "source": [
    "## Testing\n",
    "\n",
    "I will now use the parameters we found above to train the 3 models on the whole training set, then predict the test targets and finally compare the results by calculating the RMSE score between the predicted values and actual targets."
   ]
  },
  {
   "cell_type": "code",
   "execution_count": 25,
   "metadata": {},
   "outputs": [],
   "source": [
    "# define list to store scores\n",
    "rmse_score = []\n",
    "predictions = []\n",
    "\n",
    "# define all the models with optimal parameters\n",
    "models = [LinearRegression(),\n",
    "          RandomForestRegressor(max_depth=18, n_estimators=30),\n",
    "          LGBMRegressor(boosting_type='gbdt', learning_rate=0.05, min_data_in_leaf=10)]\n",
    "\n",
    "# define all model names\n",
    "model_names = ['LinearRegression()', 'RandomForestRegressor()', 'LGBMRegressor()']"
   ]
  },
  {
   "cell_type": "code",
   "execution_count": 26,
   "metadata": {},
   "outputs": [
    {
     "data": {
      "text/plain": [
       "TransformedTargetRegressor(regressor=Pipeline(steps=[('preprocessing',\n",
       "                                                      ColumnTransformer(remainder='passthrough',\n",
       "                                                                        transformers=[('standardscaler',\n",
       "                                                                                       StandardScaler(),\n",
       "                                                                                       ['daily_rolling_mean',\n",
       "                                                                                        'weekly_rolling_mean',\n",
       "                                                                                        'dayofweek',\n",
       "                                                                                        'hour',\n",
       "                                                                                        'lag_1',\n",
       "                                                                                        'lag_2',\n",
       "                                                                                        'lag_3',\n",
       "                                                                                        'lag_4',\n",
       "                                                                                        'lag_5',\n",
       "                                                                                        'lag_6'])])),\n",
       "                                                     ('regression',\n",
       "                                                      LinearRegression())]),\n",
       "                           transformer=StandardScaler())"
      ]
     },
     "execution_count": 26,
     "metadata": {},
     "output_type": "execute_result"
    },
    {
     "data": {
      "text/plain": [
       "TransformedTargetRegressor(regressor=Pipeline(steps=[('preprocessing',\n",
       "                                                      ColumnTransformer(remainder='passthrough',\n",
       "                                                                        transformers=[('standardscaler',\n",
       "                                                                                       StandardScaler(),\n",
       "                                                                                       ['daily_rolling_mean',\n",
       "                                                                                        'weekly_rolling_mean',\n",
       "                                                                                        'dayofweek',\n",
       "                                                                                        'hour',\n",
       "                                                                                        'lag_1',\n",
       "                                                                                        'lag_2',\n",
       "                                                                                        'lag_3',\n",
       "                                                                                        'lag_4',\n",
       "                                                                                        'lag_5',\n",
       "                                                                                        'lag_6'])])),\n",
       "                                                     ('regression',\n",
       "                                                      RandomForestRegressor(max_depth=18,\n",
       "                                                                            n_estimators=30))]),\n",
       "                           transformer=StandardScaler())"
      ]
     },
     "execution_count": 26,
     "metadata": {},
     "output_type": "execute_result"
    },
    {
     "name": "stdout",
     "output_type": "stream",
     "text": [
      "[LightGBM] [Warning] min_data_in_leaf is set=10, min_child_samples=20 will be ignored. Current value: min_data_in_leaf=10\n"
     ]
    },
    {
     "data": {
      "text/plain": [
       "TransformedTargetRegressor(regressor=Pipeline(steps=[('preprocessing',\n",
       "                                                      ColumnTransformer(remainder='passthrough',\n",
       "                                                                        transformers=[('standardscaler',\n",
       "                                                                                       StandardScaler(),\n",
       "                                                                                       ['daily_rolling_mean',\n",
       "                                                                                        'weekly_rolling_mean',\n",
       "                                                                                        'dayofweek',\n",
       "                                                                                        'hour',\n",
       "                                                                                        'lag_1',\n",
       "                                                                                        'lag_2',\n",
       "                                                                                        'lag_3',\n",
       "                                                                                        'lag_4',\n",
       "                                                                                        'lag_5',\n",
       "                                                                                        'lag_6'])])),\n",
       "                                                     ('regression',\n",
       "                                                      LGBMRegressor(learning_rate=0.05,\n",
       "                                                                    min_data_in_leaf=10))]),\n",
       "                           transformer=StandardScaler())"
      ]
     },
     "execution_count": 26,
     "metadata": {},
     "output_type": "execute_result"
    }
   ],
   "source": [
    "# loop through models and run them all\n",
    "for model, model_name in zip(models, model_names):\n",
    "\n",
    "    # define pipeline\n",
    "    steps = [('preprocessing', preprocess), ('regression', model)]\n",
    "    pipeline = Pipeline(steps)\n",
    "    \n",
    "    # prepare the model with target scaling\n",
    "    model = TransformedTargetRegressor(regressor=pipeline, transformer=StandardScaler())\n",
    "    \n",
    "    # train model\n",
    "    model.fit(train_X, train_y)\n",
    "    \n",
    "    # predict results for test set\n",
    "    predicted_y = model.predict(test_X)\n",
    "    predictions.append([model_name, predicted_y])\n",
    "    \n",
    "    # calculate RMSE for this model\n",
    "    rmse_score.append([model_name, mean_squared_error(test_y, predicted_y, squared=False)])"
   ]
  },
  {
   "cell_type": "code",
   "execution_count": 27,
   "metadata": {},
   "outputs": [
    {
     "data": {
      "image/png": "[encoded data removed]",
      "text/plain": [
       "<Figure size 720x540 with 1 Axes>"
      ]
     },
     "metadata": {
      "needs_background": "light"
     },
     "output_type": "display_data"
    }
   ],
   "source": [
    "# plot bar chart of RMSE\n",
    "pd.DataFrame(rmse_score, columns=['model', 'RMSE']).plot(kind='bar', x='model', figsize=(10,7.5), title='RMSE score of each model on test dataset (lower is better)')\n",
    "plt.ylabel('RMSE')\n",
    "plt.axhline(48, color='red')\n",
    "plt.xticks(rotation=45);"
   ]
  },
  {
   "cell_type": "markdown",
   "metadata": {},
   "source": [
    "### Conclusion\n",
    "\n",
    "We trained the models and tested them on the test set. We received worse results than during the cross validation, but still managed to beat the RMSE score of 48 using the random forest and light gradient boosting models, with the RandomForest and LGBM regressor giving us close results around ~44. That being said, training the LGBM regressor (and testing various options during the gridsearch cross validation) took a lot less time than the random forest regressor."
   ]
  },
  {
   "cell_type": "code",
   "execution_count": 30,
   "metadata": {},
   "outputs": [
    {
     "data": {
      "image/png": "[encoded data removed]",
      "text/plain": [
       "<Figure size 720x360 with 1 Axes>"
      ]
     },
     "metadata": {
      "needs_background": "light"
     },
     "output_type": "display_data"
    }
   ],
   "source": [
    "test_y.plot(figsize=(10,5), title='lightGBBM predictions vs actual taxi orders per hour')\n",
    "pd.DataFrame(predictions[2][1], index=test_y.index).plot(ax=plt.gca())\n",
    "plt.xlabel('date/time')\n",
    "plt.ylabel('number of orders')\n",
    "plt.legend(['actual orders', 'predicted orders']);"
   ]
  },
  {
   "cell_type": "markdown",
   "metadata": {},
   "source": [
    "We can see that in general the predictions are not far off from the actual results, but as expected the outliers we witnessed earlier in the analysis part are spots where there is a larger difference between the predictions and the actual results."
   ]
  }
 ],
 "metadata": {
  "ExecuteTimeLog": [
   {
    "duration": 1520,
    "start_time": "2022-08-10T14:55:49.998Z"
   },
   {
    "duration": 3,
    "start_time": "2022-08-10T14:55:51.520Z"
   },
   {
    "duration": 142,
    "start_time": "2022-08-10T14:55:51.524Z"
   },
   {
    "duration": 28,
    "start_time": "2022-08-10T14:55:51.670Z"
   },
   {
    "duration": 3,
    "start_time": "2022-08-10T14:55:51.700Z"
   },
   {
    "duration": 127,
    "start_time": "2022-08-10T14:55:51.704Z"
   },
   {
    "duration": 0,
    "start_time": "2022-08-10T14:55:51.833Z"
   },
   {
    "duration": 0,
    "start_time": "2022-08-10T14:55:51.834Z"
   },
   {
    "duration": 0,
    "start_time": "2022-08-10T14:55:51.835Z"
   },
   {
    "duration": 0,
    "start_time": "2022-08-10T14:55:51.836Z"
   },
   {
    "duration": 0,
    "start_time": "2022-08-10T14:55:51.837Z"
   },
   {
    "duration": 0,
    "start_time": "2022-08-10T14:55:51.838Z"
   },
   {
    "duration": 1,
    "start_time": "2022-08-10T14:55:51.838Z"
   },
   {
    "duration": 0,
    "start_time": "2022-08-10T14:55:51.839Z"
   },
   {
    "duration": 0,
    "start_time": "2022-08-10T14:55:51.840Z"
   },
   {
    "duration": 0,
    "start_time": "2022-08-10T14:55:51.841Z"
   },
   {
    "duration": 0,
    "start_time": "2022-08-10T14:55:51.842Z"
   },
   {
    "duration": 0,
    "start_time": "2022-08-10T14:55:51.843Z"
   },
   {
    "duration": 0,
    "start_time": "2022-08-10T14:55:51.844Z"
   },
   {
    "duration": 0,
    "start_time": "2022-08-10T14:55:51.844Z"
   },
   {
    "duration": 0,
    "start_time": "2022-08-10T14:55:51.845Z"
   },
   {
    "duration": 0,
    "start_time": "2022-08-10T14:55:51.846Z"
   },
   {
    "duration": 0,
    "start_time": "2022-08-10T14:55:51.847Z"
   },
   {
    "duration": 0,
    "start_time": "2022-08-10T14:55:51.848Z"
   },
   {
    "duration": 75,
    "start_time": "2022-08-10T14:56:53.694Z"
   },
   {
    "duration": 1438,
    "start_time": "2022-08-10T14:56:59.570Z"
   },
   {
    "duration": 3,
    "start_time": "2022-08-10T14:57:01.010Z"
   },
   {
    "duration": 89,
    "start_time": "2022-08-10T14:57:01.015Z"
   },
   {
    "duration": 27,
    "start_time": "2022-08-10T14:57:01.107Z"
   },
   {
    "duration": 3,
    "start_time": "2022-08-10T14:57:01.136Z"
   },
   {
    "duration": 41,
    "start_time": "2022-08-10T14:57:01.140Z"
   },
   {
    "duration": 1096,
    "start_time": "2022-08-10T14:57:01.182Z"
   },
   {
    "duration": 168,
    "start_time": "2022-08-10T14:57:02.280Z"
   },
   {
    "duration": 7,
    "start_time": "2022-08-10T14:57:02.450Z"
   },
   {
    "duration": 8,
    "start_time": "2022-08-10T14:57:02.459Z"
   },
   {
    "duration": 22,
    "start_time": "2022-08-10T14:57:02.469Z"
   },
   {
    "duration": 7,
    "start_time": "2022-08-10T14:57:02.493Z"
   },
   {
    "duration": 15,
    "start_time": "2022-08-10T14:57:02.501Z"
   },
   {
    "duration": 12,
    "start_time": "2022-08-10T14:57:02.517Z"
   },
   {
    "duration": 9,
    "start_time": "2022-08-10T14:57:02.531Z"
   },
   {
    "duration": 70,
    "start_time": "2022-08-10T14:57:02.541Z"
   },
   {
    "duration": 40700,
    "start_time": "2022-08-10T14:57:02.612Z"
   },
   {
    "duration": 10,
    "start_time": "2022-08-10T14:57:43.314Z"
   },
   {
    "duration": 64164,
    "start_time": "2022-08-10T14:57:43.326Z"
   },
   {
    "duration": 11,
    "start_time": "2022-08-10T14:58:47.492Z"
   },
   {
    "duration": 9,
    "start_time": "2022-08-10T14:58:47.505Z"
   },
   {
    "duration": 1893,
    "start_time": "2022-08-10T14:58:47.516Z"
   },
   {
    "duration": 340,
    "start_time": "2022-08-10T14:58:49.410Z"
   },
   {
    "duration": 228,
    "start_time": "2022-08-10T14:58:49.752Z"
   },
   {
    "duration": 4,
    "start_time": "2022-08-10T14:59:34.499Z"
   },
   {
    "duration": 1591,
    "start_time": "2022-08-10T14:59:36.714Z"
   },
   {
    "duration": 261,
    "start_time": "2022-08-10T14:59:42.579Z"
   },
   {
    "duration": 5,
    "start_time": "2022-08-10T15:00:06.314Z"
   },
   {
    "duration": 4,
    "start_time": "2022-08-10T15:00:44.645Z"
   },
   {
    "duration": 242,
    "start_time": "2022-08-10T15:01:27.276Z"
   }
  ],
  "kernelspec": {
   "display_name": "Python 3 (ipykernel)",
   "language": "python",
   "name": "python3"
  },
  "language_info": {
   "codemirror_mode": {
    "name": "ipython",
    "version": 3
   },
   "file_extension": ".py",
   "mimetype": "text/x-python",
   "name": "python",
   "nbconvert_exporter": "python",
   "pygments_lexer": "ipython3",
   "version": "3.9.12"
  },
  "toc": {
   "base_numbering": 1,
   "nav_menu": {},
   "number_sections": true,
   "sideBar": true,
   "skip_h1_title": true,
   "title_cell": "Table of Contents",
   "title_sidebar": "Contents",
   "toc_cell": false,
   "toc_position": {},
   "toc_section_display": true,
   "toc_window_display": false
  }
 },
 "nbformat": 4,
 "nbformat_minor": 2
}
